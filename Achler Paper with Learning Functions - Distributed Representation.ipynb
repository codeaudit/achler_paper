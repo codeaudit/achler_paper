{
 "cells": [
  {
   "cell_type": "markdown",
   "metadata": {},
   "source": [
    "# Symbolic neural networks for cognitive capacities\n",
    "[Paper](http://reason.cs.uiuc.edu/tsvi/BICA_93_Main.pdf)"
   ]
  },
  {
   "cell_type": "markdown",
   "metadata": {},
   "source": [
    "## Example of a more complex symbolic learning, recognition and recall\n",
    "\n",
    "Take 3 men (Adam, Baker, Charlie) and 3 women (Diane, Edna, Fay) in a group which may hold 9 people.\n",
    "\n",
    "Make a matrix of features. Gender (1=male, 2=female), names in distributed representation"
   ]
  },
  {
   "cell_type": "code",
   "execution_count": 64,
   "metadata": {
    "collapsed": true
   },
   "outputs": [],
   "source": [
    "%run achler_functions.py"
   ]
  },
  {
   "cell_type": "code",
   "execution_count": 65,
   "metadata": {
    "collapsed": false
   },
   "outputs": [
    {
     "name": "stdout",
     "output_type": "stream",
     "text": [
      "[[ 0.  0.  0.  0.  0.  0.  0.  0.  0.  0.]\n",
      " [ 0.  0.  0.  0.  0.  0.  0.  0.  0.  0.]\n",
      " [ 0.  0.  0.  0.  0.  0.  0.  0.  0.  0.]\n",
      " [ 0.  0.  0.  0.  0.  0.  0.  0.  0.  0.]\n",
      " [ 0.  0.  0.  0.  0.  0.  0.  0.  0.  0.]\n",
      " [ 0.  0.  0.  0.  0.  0.  0.  0.  0.  0.]\n",
      " [ 0.  0.  0.  0.  0.  0.  0.  0.  0.  0.]\n",
      " [ 0.  0.  0.  0.  0.  0.  0.  0.  0.  0.]\n",
      " [ 0.  0.  0.  0.  0.  0.  0.  0.  0.  0.]]\n",
      "(9, 10)\n"
     ]
    }
   ],
   "source": [
    "import numpy as np\n",
    "exp = np.zeros((9, 10))\n",
    "exp_labels = []\n",
    "print(exp)\n",
    "print(exp.shape)"
   ]
  },
  {
   "cell_type": "code",
   "execution_count": 66,
   "metadata": {
    "collapsed": false
   },
   "outputs": [
    {
     "name": "stdout",
     "output_type": "stream",
     "text": [
      "[[ 1.  0.  0.  0.  0.  0.  0.  0.  0.  0.]\n",
      " [ 0.  0.  0.  0.  0.  0.  0.  0.  0.  0.]\n",
      " [ 0.  0.  0.  0.  0.  0.  0.  0.  0.  0.]\n",
      " [ 0.  0.  0.  0.  0.  0.  0.  0.  0.  0.]\n",
      " [ 0.  0.  0.  0.  0.  0.  0.  0.  0.  0.]\n",
      " [ 0.  0.  0.  0.  0.  0.  0.  0.  0.  0.]\n",
      " [ 0.  0.  0.  0.  0.  0.  0.  0.  0.  0.]\n",
      " [ 0.  0.  0.  0.  0.  0.  0.  0.  0.  0.]\n",
      " [ 0.  0.  0.  0.  0.  0.  0.  0.  0.  0.]]\n",
      "['name']\n"
     ]
    }
   ],
   "source": [
    "import math\n",
    "Adam = {\"name\": 1}\n",
    "exp, exp_labels = learn_instance([Adam,], exp, exp_labels)\n",
    "print(exp)\n",
    "print(exp_labels)"
   ]
  },
  {
   "cell_type": "markdown",
   "metadata": {},
   "source": [
    "Learn first property"
   ]
  },
  {
   "cell_type": "code",
   "execution_count": 67,
   "metadata": {
    "collapsed": false
   },
   "outputs": [
    {
     "name": "stdout",
     "output_type": "stream",
     "text": [
      "[[ 1.  1.  0.  0.  0.  0.  0.  0.  0.  0.]\n",
      " [ 0.  0.  0.  0.  0.  0.  0.  0.  0.  0.]\n",
      " [ 0.  0.  0.  0.  0.  0.  0.  0.  0.  0.]\n",
      " [ 0.  0.  0.  0.  0.  0.  0.  0.  0.  0.]\n",
      " [ 0.  0.  0.  0.  0.  0.  0.  0.  0.  0.]\n",
      " [ 0.  0.  0.  0.  0.  0.  0.  0.  0.  0.]\n",
      " [ 0.  0.  0.  0.  0.  0.  0.  0.  0.  0.]\n",
      " [ 0.  0.  0.  0.  0.  0.  0.  0.  0.  0.]\n",
      " [ 0.  0.  0.  0.  0.  0.  0.  0.  0.  0.]]\n",
      "['name', 'gender']\n"
     ]
    }
   ],
   "source": [
    "Adam = {\"name\": 1, \"gender\": 1}\n",
    "exp, exp_labels = learn_property([Adam,], exp, exp_labels)\n",
    "print(exp)\n",
    "print(exp_labels)"
   ]
  },
  {
   "cell_type": "code",
   "execution_count": 68,
   "metadata": {
    "collapsed": false
   },
   "outputs": [
    {
     "name": "stdout",
     "output_type": "stream",
     "text": [
      "[[ 1.  1.  0.  0.  0.  0.  0.  0.  0.  0.]\n",
      " [ 2.  1.  0.  0.  0.  0.  0.  0.  0.  0.]\n",
      " [ 3.  1.  0.  0.  0.  0.  0.  0.  0.  0.]\n",
      " [ 4.  2.  0.  0.  0.  0.  0.  0.  0.  0.]\n",
      " [ 5.  2.  0.  0.  0.  0.  0.  0.  0.  0.]\n",
      " [ 6.  2.  0.  0.  0.  0.  0.  0.  0.  0.]\n",
      " [ 0.  0.  0.  0.  0.  0.  0.  0.  0.  0.]\n",
      " [ 0.  0.  0.  0.  0.  0.  0.  0.  0.  0.]\n",
      " [ 0.  0.  0.  0.  0.  0.  0.  0.  0.  0.]]\n",
      "['name', 'gender']\n"
     ]
    }
   ],
   "source": [
    "Baker  = {\"gender\": 1, \"name\": 2}\n",
    "Charlie = {\"gender\": 1, \"name\": 3}\n",
    "Diane = {\"gender\": 2, \"name\": 4}\n",
    "Edna = {\"gender\": 2, \"name\": 5}\n",
    "Fay = {\"gender\": 2, \"name\": 6}\n",
    "exp, exp_labels = learn_instance([Baker, Charlie, Diane, Edna, Fay], exp, exp_labels)\n",
    "print(exp)\n",
    "print(exp_labels)"
   ]
  },
  {
   "cell_type": "markdown",
   "metadata": {},
   "source": [
    "Check that each instance is recognised"
   ]
  },
  {
   "cell_type": "code",
   "execution_count": 69,
   "metadata": {
    "collapsed": false
   },
   "outputs": [
    {
     "name": "stdout",
     "output_type": "stream",
     "text": [
      "[[-0.30434783  0.79710145  0.          0.          0.          0.          0.\n",
      "   0.          0.          0.        ]\n",
      " [-0.08695652  0.27536232  0.          0.          0.          0.          0.\n",
      "   0.          0.          0.        ]\n",
      " [ 0.13043478 -0.24637681  0.          0.          0.          0.          0.\n",
      "   0.          0.          0.        ]\n",
      " [-0.17391304  0.55072464  0.          0.          0.          0.          0.\n",
      "   0.          0.          0.        ]\n",
      " [ 0.04347826  0.02898551  0.          0.          0.          0.          0.\n",
      "   0.          0.          0.        ]\n",
      " [ 0.26086957 -0.49275362  0.          0.          0.          0.          0.\n",
      "   0.          0.          0.        ]\n",
      " [ 0.          0.          0.          0.          0.          0.          0.\n",
      "   0.          0.          0.        ]\n",
      " [ 0.          0.          0.          0.          0.          0.          0.\n",
      "   0.          0.          0.        ]\n",
      " [ 0.          0.          0.          0.          0.          0.          0.\n",
      "   0.          0.          0.        ]]\n"
     ]
    }
   ],
   "source": [
    "pinv = np.linalg.pinv(exp)\n",
    "pinv_transpose = pinv.transpose()\n",
    "print(pinv_transpose)"
   ]
  },
  {
   "cell_type": "code",
   "execution_count": 70,
   "metadata": {
    "collapsed": false
   },
   "outputs": [
    {
     "name": "stdout",
     "output_type": "stream",
     "text": [
      "1 True\t0.49\n",
      "2 False\t0.1\n",
      "3 False\t0.14\n",
      "4 True\t0.41\n",
      "5 False\t0.28\n",
      "6 True\t0.58\n",
      "7 True\t0.0\n",
      "8 True\t0.0\n",
      "9 True\t0.0\n"
     ]
    }
   ],
   "source": [
    "for index in range(exp.shape[0]):\n",
    "    prediction = pinv_transpose * np.matrix(exp[index]).T\n",
    "    print(\"{} {}\\t{}\".format(index + 1, \n",
    "          (prediction.item( (index, 0)) == max(prediction)).item(),\n",
    "          round(prediction.item( (index, 0)), 2)))"
   ]
  }
 ],
 "metadata": {
  "kernelspec": {
   "display_name": "Python 3",
   "language": "python",
   "name": "python3"
  },
  "language_info": {
   "codemirror_mode": {
    "name": "ipython",
    "version": 3
   },
   "file_extension": ".py",
   "mimetype": "text/x-python",
   "name": "python",
   "nbconvert_exporter": "python",
   "pygments_lexer": "ipython3",
   "version": "3.5.1"
  }
 },
 "nbformat": 4,
 "nbformat_minor": 0
}
