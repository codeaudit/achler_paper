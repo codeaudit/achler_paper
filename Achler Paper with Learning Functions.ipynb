{
 "cells": [
  {
   "cell_type": "markdown",
   "metadata": {},
   "source": [
    "# Symbolic neural networks for cognitive capacities\n",
    "[Paper](http://reason.cs.uiuc.edu/tsvi/BICA_93_Main.pdf)"
   ]
  },
  {
   "cell_type": "markdown",
   "metadata": {},
   "source": [
    "## Example of a more complex symbolic learning, recognition and recall\n",
    "\n",
    "Take 3 men (Adam, Baker, Charlie) and 3 women (Diane, Edna, Fay) in a group which may hold 9 people.\n",
    "\n",
    "Make a matrix of features. Gender (1=male, 2=female), name_adam? (1=yes, 0=no), name_baker?, ... etc."
   ]
  },
  {
   "cell_type": "code",
   "execution_count": 1,
   "metadata": {
    "collapsed": false
   },
   "outputs": [
    {
     "name": "stdout",
     "output_type": "stream",
     "text": [
      "[[ 0.  0.  0.  0.  0.  0.  0.  0.  0.  0.]\n",
      " [ 0.  0.  0.  0.  0.  0.  0.  0.  0.  0.]\n",
      " [ 0.  0.  0.  0.  0.  0.  0.  0.  0.  0.]\n",
      " [ 0.  0.  0.  0.  0.  0.  0.  0.  0.  0.]\n",
      " [ 0.  0.  0.  0.  0.  0.  0.  0.  0.  0.]\n",
      " [ 0.  0.  0.  0.  0.  0.  0.  0.  0.  0.]\n",
      " [ 0.  0.  0.  0.  0.  0.  0.  0.  0.  0.]\n",
      " [ 0.  0.  0.  0.  0.  0.  0.  0.  0.  0.]\n",
      " [ 0.  0.  0.  0.  0.  0.  0.  0.  0.  0.]]\n",
      "(9, 10)\n"
     ]
    }
   ],
   "source": [
    "import numpy as np\n",
    "exp = np.zeros((9, 10))\n",
    "exp_labels = []\n",
    "print(exp)\n",
    "print(exp.shape)"
   ]
  },
  {
   "cell_type": "markdown",
   "metadata": {},
   "source": [
    "Define **Instance** and **Property** learning functions."
   ]
  },
  {
   "cell_type": "code",
   "execution_count": 2,
   "metadata": {
    "collapsed": true
   },
   "outputs": [],
   "source": [
    "def softmax_2(x):\n",
    "    e_x = np.exp(x - np.max(x))\n",
    "    out = e_x / e_x.sum()\n",
    "    return out\n",
    "\n",
    "def vectorize(instance, exp_labels):\n",
    "    instance_vector = np.zeros(exp.shape[1])\n",
    "    for key in instance.keys():\n",
    "        # add key to labels, if needed\n",
    "        if not key in exp_labels:\n",
    "            exp_labels.append(key)\n",
    "        key_offset = exp_labels.index(key)\n",
    "        instance_vector.put(key_offset, instance[key])\n",
    "    return np.matrix(instance_vector), exp_labels\n",
    "\n",
    "def learn_instance(instance_list, exp, exp_labels):\n",
    "    for instance in instance_list:\n",
    "        instance_vector, exp_labels = vectorize(instance, exp_labels)\n",
    "        # find first 0 row\n",
    "        for i in range(exp.shape[0]):\n",
    "            if not exp[i].any():\n",
    "                exp[i] = instance_vector\n",
    "                break\n",
    "    return exp, exp_labels\n",
    "\n",
    "def learn_property(instance_list, exp, exp_labels):\n",
    "    for instance in instance_list:\n",
    "        instance_vector, exp_labels = vectorize(instance, exp_labels)\n",
    "        # find first row with 1 unmatched element\n",
    "        for i in range(exp.shape[0]):\n",
    "            if not exp[i].any():\n",
    "                break\n",
    "            else:\n",
    "                difference = instance_vector - exp[i]\n",
    "                if np.count_nonzero(difference) == 1:\n",
    "                    difference_index = np.nonzero(difference)[1][0]\n",
    "                    exp.put(i * exp.shape[1] + difference_index, difference.item((0, difference_index)))\n",
    "                break   \n",
    "    return exp, exp_labels"
   ]
  },
  {
   "cell_type": "markdown",
   "metadata": {},
   "source": [
    "Learn first instance"
   ]
  },
  {
   "cell_type": "code",
   "execution_count": 3,
   "metadata": {
    "collapsed": false
   },
   "outputs": [
    {
     "name": "stdout",
     "output_type": "stream",
     "text": [
      "[[ 1.  0.  0.  0.  0.  0.  0.  0.  0.  0.]\n",
      " [ 0.  0.  0.  0.  0.  0.  0.  0.  0.  0.]\n",
      " [ 0.  0.  0.  0.  0.  0.  0.  0.  0.  0.]\n",
      " [ 0.  0.  0.  0.  0.  0.  0.  0.  0.  0.]\n",
      " [ 0.  0.  0.  0.  0.  0.  0.  0.  0.  0.]\n",
      " [ 0.  0.  0.  0.  0.  0.  0.  0.  0.  0.]\n",
      " [ 0.  0.  0.  0.  0.  0.  0.  0.  0.  0.]\n",
      " [ 0.  0.  0.  0.  0.  0.  0.  0.  0.  0.]\n",
      " [ 0.  0.  0.  0.  0.  0.  0.  0.  0.  0.]]\n",
      "['name_adam']\n"
     ]
    }
   ],
   "source": [
    "Adam = {\"name_adam\": 1}\n",
    "exp, exp_labels = learn_instance([Adam,], exp, exp_labels)\n",
    "print(exp)\n",
    "print(exp_labels)"
   ]
  },
  {
   "cell_type": "markdown",
   "metadata": {},
   "source": [
    "Learn first property"
   ]
  },
  {
   "cell_type": "code",
   "execution_count": 4,
   "metadata": {
    "collapsed": false
   },
   "outputs": [
    {
     "name": "stdout",
     "output_type": "stream",
     "text": [
      "[[ 1.  1.  0.  0.  0.  0.  0.  0.  0.  0.]\n",
      " [ 0.  0.  0.  0.  0.  0.  0.  0.  0.  0.]\n",
      " [ 0.  0.  0.  0.  0.  0.  0.  0.  0.  0.]\n",
      " [ 0.  0.  0.  0.  0.  0.  0.  0.  0.  0.]\n",
      " [ 0.  0.  0.  0.  0.  0.  0.  0.  0.  0.]\n",
      " [ 0.  0.  0.  0.  0.  0.  0.  0.  0.  0.]\n",
      " [ 0.  0.  0.  0.  0.  0.  0.  0.  0.  0.]\n",
      " [ 0.  0.  0.  0.  0.  0.  0.  0.  0.  0.]\n",
      " [ 0.  0.  0.  0.  0.  0.  0.  0.  0.  0.]]\n",
      "['name_adam', 'gender']\n"
     ]
    }
   ],
   "source": [
    "Adam = {\"name_adam\": 1, \"gender\": 1}\n",
    "exp, exp_labels = learn_property([Adam,], exp, exp_labels)\n",
    "print(exp)\n",
    "print(exp_labels)"
   ]
  },
  {
   "cell_type": "code",
   "execution_count": 5,
   "metadata": {
    "collapsed": false
   },
   "outputs": [
    {
     "name": "stdout",
     "output_type": "stream",
     "text": [
      "[[ 1.  1.  0.  0.  0.  0.  0.  0.  0.  0.]\n",
      " [ 0.  1.  1.  0.  0.  0.  0.  0.  0.  0.]\n",
      " [ 0.  1.  0.  1.  0.  0.  0.  0.  0.  0.]\n",
      " [ 0.  2.  0.  0.  1.  0.  0.  0.  0.  0.]\n",
      " [ 0.  2.  0.  0.  0.  1.  0.  0.  0.  0.]\n",
      " [ 0.  2.  0.  0.  0.  0.  1.  0.  0.  0.]\n",
      " [ 0.  0.  0.  0.  0.  0.  0.  0.  0.  0.]\n",
      " [ 0.  0.  0.  0.  0.  0.  0.  0.  0.  0.]\n",
      " [ 0.  0.  0.  0.  0.  0.  0.  0.  0.  0.]]\n",
      "['name_adam', 'gender', 'name_baker', 'name_charlie', 'name_diane', 'name_edna', 'name_fay']\n"
     ]
    }
   ],
   "source": [
    "Baker  = {\"gender\": 1, \"name_baker\": 1}\n",
    "Charlie = {\"gender\": 1, \"name_charlie\": 1}\n",
    "Diane = {\"gender\": 2, \"name_diane\": 1}\n",
    "Edna = {\"gender\": 2, \"name_edna\": 1}\n",
    "Fay = {\"gender\": 2, \"name_fay\": 1}\n",
    "exp, exp_labels = learn_instance([Baker, Charlie, Diane, Edna, Fay], exp, exp_labels)\n",
    "print(exp)\n",
    "print(exp_labels)"
   ]
  },
  {
   "cell_type": "markdown",
   "metadata": {},
   "source": [
    "Check that each instance is recognised"
   ]
  },
  {
   "cell_type": "code",
   "execution_count": 6,
   "metadata": {
    "collapsed": false
   },
   "outputs": [
    {
     "name": "stdout",
     "output_type": "stream",
     "text": [
      "[[ 0.9375  0.0625 -0.0625 -0.0625 -0.125  -0.125  -0.125   0.      0.      0.    ]\n",
      " [-0.0625  0.0625  0.9375 -0.0625 -0.125  -0.125  -0.125   0.      0.      0.    ]\n",
      " [-0.0625  0.0625 -0.0625  0.9375 -0.125  -0.125  -0.125   0.      0.      0.    ]\n",
      " [-0.125   0.125  -0.125  -0.125   0.75   -0.25   -0.25    0.      0.      0.    ]\n",
      " [-0.125   0.125  -0.125  -0.125  -0.25    0.75   -0.25    0.      0.      0.    ]\n",
      " [-0.125   0.125  -0.125  -0.125  -0.25   -0.25    0.75    0.      0.      0.    ]\n",
      " [ 0.      0.      0.      0.      0.      0.      0.      0.      0.      0.    ]\n",
      " [ 0.      0.      0.      0.      0.      0.      0.      0.      0.      0.    ]\n",
      " [ 0.      0.      0.      0.      0.      0.      0.      0.      0.      0.    ]]\n"
     ]
    }
   ],
   "source": [
    "pinv = np.linalg.pinv(exp)\n",
    "pinv_transpose = pinv.transpose()\n",
    "print(pinv_transpose)"
   ]
  },
  {
   "cell_type": "code",
   "execution_count": 7,
   "metadata": {
    "collapsed": false
   },
   "outputs": [
    {
     "name": "stdout",
     "output_type": "stream",
     "text": [
      "1 1.0\n",
      "2 1.0\n",
      "3 1.0\n",
      "4 1.0\n",
      "5 1.0\n",
      "6 1.0\n",
      "7 0.0\n",
      "8 0.0\n",
      "9 0.0\n"
     ]
    }
   ],
   "source": [
    "for index in range(exp.shape[0]):\n",
    "    prediction = pinv_transpose * np.matrix(exp[index]).T\n",
    "    print(index + 1, round(prediction.item( (index, 0)), 2))"
   ]
  },
  {
   "cell_type": "markdown",
   "metadata": {},
   "source": [
    "# Categories\n",
    "\n",
    "Define two categories, male and female.  These are the SUM of the observations in each set."
   ]
  },
  {
   "cell_type": "code",
   "execution_count": 8,
   "metadata": {
    "collapsed": false
   },
   "outputs": [
    {
     "name": "stdout",
     "output_type": "stream",
     "text": [
      "male   [[ 1.  3.  1.  1.  0.  0.  0.  0.  0.  0.]]\n",
      "female [[ 0.  6.  0.  0.  1.  1.  1.  0.  0.  0.]]\n"
     ]
    }
   ],
   "source": [
    "def make_male_and_female_categories(exp):\n",
    "    male = np.matrix(np.zeros(exp.shape[1]))\n",
    "    female = np.matrix(np.zeros(exp.shape[1]))\n",
    "    for index in range(exp.shape[0]):\n",
    "        if exp[index].any():\n",
    "            if exp.item( (index, exp_labels.index('gender')) ) == 1:\n",
    "                male += exp[index, :]\n",
    "            else:\n",
    "                female += exp[index, :]\n",
    "    return male, female\n",
    "male, female = make_male_and_female_categories(exp)\n",
    "print(\"male  \", male)\n",
    "print(\"female\", female)"
   ]
  },
  {
   "cell_type": "markdown",
   "metadata": {},
   "source": [
    "Check predictions of each category"
   ]
  },
  {
   "cell_type": "code",
   "execution_count": 9,
   "metadata": {
    "collapsed": false
   },
   "outputs": [
    {
     "data": {
      "text/plain": [
       "array([[ 1.],\n",
       "       [ 1.],\n",
       "       [ 1.],\n",
       "       [ 0.],\n",
       "       [ 0.],\n",
       "       [ 0.],\n",
       "       [ 0.],\n",
       "       [ 0.],\n",
       "       [ 0.]])"
      ]
     },
     "execution_count": 9,
     "metadata": {},
     "output_type": "execute_result"
    }
   ],
   "source": [
    "prediction_male = pinv_transpose * male.T\n",
    "prediction_male.round(2)"
   ]
  },
  {
   "cell_type": "code",
   "execution_count": 10,
   "metadata": {
    "collapsed": false
   },
   "outputs": [
    {
     "data": {
      "text/plain": [
       "array([[-0.],\n",
       "       [-0.],\n",
       "       [ 0.],\n",
       "       [ 1.],\n",
       "       [ 1.],\n",
       "       [ 1.],\n",
       "       [ 0.],\n",
       "       [ 0.],\n",
       "       [ 0.]])"
      ]
     },
     "execution_count": 10,
     "metadata": {},
     "output_type": "execute_result"
    }
   ],
   "source": [
    "prediction_female = pinv_transpose * female.T\n",
    "prediction_female.round(2)"
   ]
  },
  {
   "cell_type": "markdown",
   "metadata": {},
   "source": [
    "Explore confounding cases"
   ]
  },
  {
   "cell_type": "code",
   "execution_count": 11,
   "metadata": {
    "collapsed": false
   },
   "outputs": [
    {
     "data": {
      "text/plain": [
       "matrix([[ 1.,  2.,  0.,  0.,  0.,  0.,  0.,  0.,  0.,  0.]])"
      ]
     },
     "execution_count": 11,
     "metadata": {},
     "output_type": "execute_result"
    }
   ],
   "source": [
    "female_with_male_name = {\"gender\": 2, \"name_adam\": 1}\n",
    "female_with_male_name_vector, exp_labels = vectorize(female_with_male_name, exp_labels)\n",
    "female_with_male_name_vector"
   ]
  },
  {
   "cell_type": "code",
   "execution_count": 12,
   "metadata": {
    "collapsed": false
   },
   "outputs": [
    {
     "data": {
      "text/plain": [
       "array([[ 1.06],\n",
       "       [ 0.06],\n",
       "       [ 0.06],\n",
       "       [ 0.13],\n",
       "       [ 0.13],\n",
       "       [ 0.13],\n",
       "       [ 0.  ],\n",
       "       [ 0.  ],\n",
       "       [ 0.  ]])"
      ]
     },
     "execution_count": 12,
     "metadata": {},
     "output_type": "execute_result"
    }
   ],
   "source": [
    "prediction_male_names = pinv_transpose * female_with_male_name_vector.T\n",
    "prediction_male_names.round(2)"
   ]
  },
  {
   "cell_type": "code",
   "execution_count": 13,
   "metadata": {
    "collapsed": false
   },
   "outputs": [
    {
     "data": {
      "text/plain": [
       "array([[-0.06],\n",
       "       [-0.06],\n",
       "       [-0.06],\n",
       "       [-0.12],\n",
       "       [-0.12],\n",
       "       [ 0.88],\n",
       "       [ 0.  ],\n",
       "       [ 0.  ],\n",
       "       [ 0.  ]])"
      ]
     },
     "execution_count": 13,
     "metadata": {},
     "output_type": "execute_result"
    }
   ],
   "source": [
    "male_with_female_name = {\"gender\": 1, \"name_fay\": 1}\n",
    "male_with_female_name_vector, exp_labels = vectorize(male_with_female_name, exp_labels)\n",
    "prediction_female_names = pinv_transpose * male_with_female_name_vector.T\n",
    "prediction_female_names.round(2)"
   ]
  },
  {
   "cell_type": "markdown",
   "metadata": {},
   "source": [
    "## Add a new person, George"
   ]
  },
  {
   "cell_type": "code",
   "execution_count": 14,
   "metadata": {
    "collapsed": false
   },
   "outputs": [
    {
     "name": "stdout",
     "output_type": "stream",
     "text": [
      "[[ 1.  1.  0.  0.  0.  0.  0.  0.  0.  0.]\n",
      " [ 0.  1.  1.  0.  0.  0.  0.  0.  0.  0.]\n",
      " [ 0.  1.  0.  1.  0.  0.  0.  0.  0.  0.]\n",
      " [ 0.  2.  0.  0.  1.  0.  0.  0.  0.  0.]\n",
      " [ 0.  2.  0.  0.  0.  1.  0.  0.  0.  0.]\n",
      " [ 0.  2.  0.  0.  0.  0.  1.  0.  0.  0.]\n",
      " [ 0.  1.  0.  0.  0.  0.  0.  1.  0.  0.]\n",
      " [ 0.  0.  0.  0.  0.  0.  0.  0.  0.  0.]\n",
      " [ 0.  0.  0.  0.  0.  0.  0.  0.  0.  0.]]\n",
      "['name_adam', 'gender', 'name_baker', 'name_charlie', 'name_diane', 'name_edna', 'name_fay', 'name_george']\n"
     ]
    }
   ],
   "source": [
    "George = {\"gender\": 1, \"name_george\": 1}\n",
    "exp, exp_labels = learn_instance([George,], exp, exp_labels)\n",
    "print(exp)\n",
    "print(exp_labels)"
   ]
  },
  {
   "cell_type": "markdown",
   "metadata": {},
   "source": [
    "Check that George is recognised"
   ]
  },
  {
   "cell_type": "code",
   "execution_count": 15,
   "metadata": {
    "collapsed": false
   },
   "outputs": [
    {
     "data": {
      "text/plain": [
       "array([[-0.],\n",
       "       [ 0.],\n",
       "       [-0.],\n",
       "       [ 0.],\n",
       "       [-0.],\n",
       "       [-0.],\n",
       "       [ 1.],\n",
       "       [ 0.],\n",
       "       [ 0.]])"
      ]
     },
     "execution_count": 15,
     "metadata": {},
     "output_type": "execute_result"
    }
   ],
   "source": [
    "pinv = np.linalg.pinv(exp)\n",
    "pinv_transpose = pinv.transpose()\n",
    "predict_george = pinv_transpose * vectorize(George, exp_labels)[0].T\n",
    "predict_george.round(2)"
   ]
  },
  {
   "cell_type": "markdown",
   "metadata": {},
   "source": [
    "Is George male?"
   ]
  },
  {
   "cell_type": "code",
   "execution_count": 16,
   "metadata": {
    "collapsed": false
   },
   "outputs": [
    {
     "data": {
      "text/plain": [
       "1.0"
      ]
     },
     "execution_count": 16,
     "metadata": {},
     "output_type": "execute_result"
    }
   ],
   "source": [
    "exp[exp[:, exp_labels.index('name_george')] == 1, exp_labels.index('gender')][0]"
   ]
  },
  {
   "cell_type": "markdown",
   "metadata": {},
   "source": [
    "Is there a male named George?"
   ]
  },
  {
   "cell_type": "code",
   "execution_count": 17,
   "metadata": {
    "collapsed": false
   },
   "outputs": [
    {
     "data": {
      "text/plain": [
       "array([[ 0.,  1.,  0.,  0.,  0.,  0.,  0.,  1.,  0.,  0.]])"
      ]
     },
     "execution_count": 17,
     "metadata": {},
     "output_type": "execute_result"
    }
   ],
   "source": [
    "males = exp[exp[:, exp_labels.index('gender')] == 1]\n",
    "males[males[:, exp_labels.index('name_george')] == 1]"
   ]
  },
  {
   "cell_type": "markdown",
   "metadata": {},
   "source": [
    "Is there a male named Fay?"
   ]
  },
  {
   "cell_type": "code",
   "execution_count": 18,
   "metadata": {
    "collapsed": false
   },
   "outputs": [
    {
     "data": {
      "text/plain": [
       "array([], shape=(0, 10), dtype=float64)"
      ]
     },
     "execution_count": 18,
     "metadata": {},
     "output_type": "execute_result"
    }
   ],
   "source": [
    "males = exp[exp[:, exp_labels.index('gender')] == 1]\n",
    "males[males[:, exp_labels.index('name_fay')] == 1]"
   ]
  },
  {
   "cell_type": "markdown",
   "metadata": {},
   "source": [
    "## Add _female_ George (like [George Eliot](https://en.wikipedia.org/wiki/George_Eliot))"
   ]
  },
  {
   "cell_type": "code",
   "execution_count": 19,
   "metadata": {
    "collapsed": false
   },
   "outputs": [
    {
     "name": "stdout",
     "output_type": "stream",
     "text": [
      "[[ 1.  1.  0.  0.  0.  0.  0.  0.  0.  0.]\n",
      " [ 0.  1.  1.  0.  0.  0.  0.  0.  0.  0.]\n",
      " [ 0.  1.  0.  1.  0.  0.  0.  0.  0.  0.]\n",
      " [ 0.  2.  0.  0.  1.  0.  0.  0.  0.  0.]\n",
      " [ 0.  2.  0.  0.  0.  1.  0.  0.  0.  0.]\n",
      " [ 0.  2.  0.  0.  0.  0.  1.  0.  0.  0.]\n",
      " [ 0.  1.  0.  0.  0.  0.  0.  1.  0.  0.]\n",
      " [ 0.  2.  0.  0.  0.  0.  0.  1.  0.  0.]\n",
      " [ 0.  0.  0.  0.  0.  0.  0.  0.  0.  0.]]\n",
      "['name_adam', 'gender', 'name_baker', 'name_charlie', 'name_diane', 'name_edna', 'name_fay', 'name_george']\n"
     ]
    }
   ],
   "source": [
    "George2 = {\"gender\": 2, \"name_george\": 1}\n",
    "exp, exp_labels = learn_instance([George2,], exp, exp_labels)\n",
    "print(exp)\n",
    "print(exp_labels)"
   ]
  },
  {
   "cell_type": "markdown",
   "metadata": {},
   "source": [
    "Check that female George is recognised"
   ]
  },
  {
   "cell_type": "code",
   "execution_count": 20,
   "metadata": {
    "collapsed": false
   },
   "outputs": [
    {
     "data": {
      "text/plain": [
       "matrix([[-0.],\n",
       "        [ 0.],\n",
       "        [ 0.],\n",
       "        [ 0.],\n",
       "        [ 0.],\n",
       "        [ 0.],\n",
       "        [-0.],\n",
       "        [ 1.],\n",
       "        [ 0.]])"
      ]
     },
     "execution_count": 20,
     "metadata": {},
     "output_type": "execute_result"
    }
   ],
   "source": [
    "pinv = np.linalg.pinv(exp)\n",
    "pinv_transpose = pinv.transpose()\n",
    "predict_george_f = pinv_transpose * vectorize(George2, exp_labels)[0].T\n",
    "predict_george_f.round()"
   ]
  },
  {
   "cell_type": "markdown",
   "metadata": {},
   "source": [
    "Is George male, female -- or both?"
   ]
  },
  {
   "cell_type": "code",
   "execution_count": 21,
   "metadata": {
    "collapsed": false
   },
   "outputs": [
    {
     "data": {
      "text/plain": [
       "array([ 1.,  2.])"
      ]
     },
     "execution_count": 21,
     "metadata": {},
     "output_type": "execute_result"
    }
   ],
   "source": [
    "exp[exp[:, exp_labels.index('name_george')] == 1, exp_labels.index('gender')]"
   ]
  },
  {
   "cell_type": "markdown",
   "metadata": {},
   "source": [
    "Update to categories"
   ]
  },
  {
   "cell_type": "code",
   "execution_count": 22,
   "metadata": {
    "collapsed": false
   },
   "outputs": [
    {
     "name": "stdout",
     "output_type": "stream",
     "text": [
      "male   [[ 1.  4.  1.  1.  0.  0.  0.  1.  0.  0.]]\n",
      "female [[ 0.  8.  0.  0.  1.  1.  1.  1.  0.  0.]]\n"
     ]
    },
    {
     "data": {
      "text/plain": [
       "array([[ 1.],\n",
       "       [ 1.],\n",
       "       [ 1.],\n",
       "       [ 0.],\n",
       "       [ 0.],\n",
       "       [ 0.],\n",
       "       [ 1.],\n",
       "       [ 0.],\n",
       "       [ 0.]])"
      ]
     },
     "execution_count": 22,
     "metadata": {},
     "output_type": "execute_result"
    }
   ],
   "source": [
    "male, female = make_male_and_female_categories(exp)\n",
    "print(\"male  \", male)\n",
    "print(\"female\", female)\n",
    "prediction_male = pinv_transpose * male.T\n",
    "prediction_male.round(2)"
   ]
  },
  {
   "cell_type": "code",
   "execution_count": 23,
   "metadata": {
    "collapsed": false
   },
   "outputs": [
    {
     "data": {
      "text/plain": [
       "array([[-0.],\n",
       "       [ 0.],\n",
       "       [ 0.],\n",
       "       [ 1.],\n",
       "       [ 1.],\n",
       "       [ 1.],\n",
       "       [-0.],\n",
       "       [ 1.],\n",
       "       [ 0.]])"
      ]
     },
     "execution_count": 23,
     "metadata": {},
     "output_type": "execute_result"
    }
   ],
   "source": [
    "prediction_female = pinv_transpose * female.T\n",
    "prediction_female.round(2)"
   ]
  },
  {
   "cell_type": "markdown",
   "metadata": {},
   "source": [
    "Make new category: Georges"
   ]
  },
  {
   "cell_type": "code",
   "execution_count": 24,
   "metadata": {
    "collapsed": false
   },
   "outputs": [
    {
     "data": {
      "text/plain": [
       "matrix([[ 0.,  3.,  0.,  0.,  0.,  0.,  0.,  2.,  0.,  0.]])"
      ]
     },
     "execution_count": 24,
     "metadata": {},
     "output_type": "execute_result"
    }
   ],
   "source": [
    "def make_georges_category(exp, exp_labels):\n",
    "    georges = np.matrix(np.zeros(exp.shape[1]))\n",
    "    for index in range(exp.shape[0]):\n",
    "        if exp[index].any():\n",
    "            if exp.item( (index, exp_labels.index('name_george')) ) == 1:\n",
    "                georges += exp[index, :]\n",
    "    return georges\n",
    "georges = make_georges_category(exp, exp_labels)\n",
    "georges"
   ]
  },
  {
   "cell_type": "code",
   "execution_count": 25,
   "metadata": {
    "collapsed": false
   },
   "outputs": [
    {
     "data": {
      "text/plain": [
       "array([[-0.],\n",
       "       [ 0.],\n",
       "       [ 0.],\n",
       "       [ 0.],\n",
       "       [ 0.],\n",
       "       [ 0.],\n",
       "       [ 1.],\n",
       "       [ 1.],\n",
       "       [ 0.]])"
      ]
     },
     "execution_count": 25,
     "metadata": {},
     "output_type": "execute_result"
    }
   ],
   "source": [
    "prediction_georges = pinv_transpose * georges.T\n",
    "prediction_georges.round(2)"
   ]
  },
  {
   "cell_type": "markdown",
   "metadata": {},
   "source": [
    "# Generalizations"
   ]
  },
  {
   "cell_type": "code",
   "execution_count": 26,
   "metadata": {
    "collapsed": false
   },
   "outputs": [
    {
     "data": {
      "text/plain": [
       "matrix([[ 1.,  4.,  1.,  1.,  0.,  0.,  0.,  1.,  0.,  0.],\n",
       "        [ 0.,  8.,  0.,  0.,  1.,  1.,  1.,  1.,  0.,  0.],\n",
       "        [ 0.,  3.,  0.,  0.,  0.,  0.,  0.,  2.,  0.,  0.]])"
      ]
     },
     "execution_count": 26,
     "metadata": {},
     "output_type": "execute_result"
    }
   ],
   "source": [
    "new_exp = male\n",
    "new_exp = np.concatenate((new_exp, female), axis=0)\n",
    "new_exp = np.concatenate((new_exp, georges), axis=0)\n",
    "new_exp"
   ]
  },
  {
   "cell_type": "code",
   "execution_count": 27,
   "metadata": {
    "collapsed": false
   },
   "outputs": [
    {
     "name": "stdout",
     "output_type": "stream",
     "text": [
      "1 1.0\n",
      "2 1.0\n",
      "3 1.0\n"
     ]
    }
   ],
   "source": [
    "pinv = np.linalg.pinv(new_exp)\n",
    "pinv_transpose = pinv.transpose()\n",
    "for index in range(new_exp.shape[0]):\n",
    "    prediction = pinv_transpose * np.matrix(new_exp[index, :]).T\n",
    "    print(index + 1, round(prediction.item( (index, 0)), 2))"
   ]
  },
  {
   "cell_type": "markdown",
   "metadata": {},
   "source": [
    "What do _male_ and _georges_ have in common?"
   ]
  },
  {
   "cell_type": "code",
   "execution_count": 28,
   "metadata": {
    "collapsed": false
   },
   "outputs": [
    {
     "data": {
      "text/plain": [
       "matrix([[ 1.,  4.,  1.,  1.,  0.,  0.,  0.,  1.,  0.,  0.]])"
      ]
     },
     "execution_count": 28,
     "metadata": {},
     "output_type": "execute_result"
    }
   ],
   "source": [
    "male"
   ]
  },
  {
   "cell_type": "code",
   "execution_count": 29,
   "metadata": {
    "collapsed": false
   },
   "outputs": [
    {
     "data": {
      "text/plain": [
       "matrix([[ 0.,  3.,  0.,  0.,  0.,  0.,  0.,  2.,  0.,  0.]])"
      ]
     },
     "execution_count": 29,
     "metadata": {},
     "output_type": "execute_result"
    }
   ],
   "source": [
    "georges"
   ]
  },
  {
   "cell_type": "code",
   "execution_count": 30,
   "metadata": {
    "collapsed": false
   },
   "outputs": [
    {
     "data": {
      "text/plain": [
       "matrix([[  0.,  12.,   0.,   0.,   0.,   0.,   0.,   2.,   0.,   0.]])"
      ]
     },
     "execution_count": 30,
     "metadata": {},
     "output_type": "execute_result"
    }
   ],
   "source": [
    "common = np.multiply(male, georges)\n",
    "common"
   ]
  },
  {
   "cell_type": "code",
   "execution_count": 31,
   "metadata": {
    "collapsed": false
   },
   "outputs": [
    {
     "name": "stdout",
     "output_type": "stream",
     "text": [
      "gender\n",
      "name_george\n"
     ]
    }
   ],
   "source": [
    "for index in range(common.shape[1]):\n",
    "    if common.item( (0, index) ):\n",
    "        print(exp_labels[index])"
   ]
  },
  {
   "cell_type": "markdown",
   "metadata": {},
   "source": [
    "And _female_ and _georges_?"
   ]
  },
  {
   "cell_type": "code",
   "execution_count": 32,
   "metadata": {
    "collapsed": false
   },
   "outputs": [
    {
     "name": "stdout",
     "output_type": "stream",
     "text": [
      "gender\n",
      "name_george\n"
     ]
    }
   ],
   "source": [
    "def in_common(category_a, category_b):\n",
    "    common = np.multiply(category_a, category_b)\n",
    "    for index in range(common.shape[1]):\n",
    "        if common.item( (0, index) ):\n",
    "            print(exp_labels[index])\n",
    "in_common(female, georges)"
   ]
  },
  {
   "cell_type": "markdown",
   "metadata": {},
   "source": [
    "And _male_ and _female_?"
   ]
  },
  {
   "cell_type": "code",
   "execution_count": 33,
   "metadata": {
    "collapsed": false
   },
   "outputs": [
    {
     "name": "stdout",
     "output_type": "stream",
     "text": [
      "gender\n",
      "name_george\n"
     ]
    }
   ],
   "source": [
    "in_common(male, female)"
   ]
  }
 ],
 "metadata": {
  "kernelspec": {
   "display_name": "Python 3",
   "language": "python",
   "name": "python3"
  },
  "language_info": {
   "codemirror_mode": {
    "name": "ipython",
    "version": 3
   },
   "file_extension": ".py",
   "mimetype": "text/x-python",
   "name": "python",
   "nbconvert_exporter": "python",
   "pygments_lexer": "ipython3",
   "version": "3.5.1"
  }
 },
 "nbformat": 4,
 "nbformat_minor": 0
}
