{
 "cells": [
  {
   "cell_type": "markdown",
   "metadata": {},
   "source": [
    "# Symbolic neural networks for cognitive capacities\n",
    "[Paper](http://reason.cs.uiuc.edu/tsvi/BICA_93_Main.pdf)"
   ]
  },
  {
   "cell_type": "code",
   "execution_count": 16,
   "metadata": {
    "collapsed": false
   },
   "outputs": [
    {
     "name": "stdout",
     "output_type": "stream",
     "text": [
      "[[2 1 1 1]\n",
      " [1 0 0 1]]\n",
      "[[1]\n",
      " [0]]\n",
      "[[0]\n",
      " [1]]\n"
     ]
    }
   ],
   "source": [
    "import numpy as np\n",
    "\n",
    "exp = np.matrix('2, 1, 1, 1; 1, 0, 0, 1') # wheels, horizontal lines, handlebars, seat\n",
    "print(exp)\n",
    "\n",
    "y1 = np.matrix('1; 0')\n",
    "print(y1)\n",
    "y2 = np.matrix('0; 1')\n",
    "print(y2)"
   ]
  },
  {
   "cell_type": "code",
   "execution_count": 17,
   "metadata": {
    "collapsed": false
   },
   "outputs": [
    {
     "name": "stdout",
     "output_type": "stream",
     "text": [
      "[[2]\n",
      " [1]\n",
      " [1]\n",
      " [1]]\n",
      "[[1]\n",
      " [0]\n",
      " [0]\n",
      " [1]]\n"
     ]
    }
   ],
   "source": [
    "bicycle = np.matrix('2; 1; 1; 1')\n",
    "print(bicycle)\n",
    "unicycle = np.matrix('1; 0; 0; 1')\n",
    "print(unicycle)"
   ]
  },
  {
   "cell_type": "code",
   "execution_count": 18,
   "metadata": {
    "collapsed": false
   },
   "outputs": [
    {
     "data": {
      "text/plain": [
       "matrix([[  1.00000000e+00],\n",
       "        [ -1.11022302e-16]])"
      ]
     },
     "execution_count": 18,
     "metadata": {},
     "output_type": "execute_result"
    }
   ],
   "source": [
    "pinv = np.linalg.pinv(exp)\n",
    "prediction_bicycle =  pinv.transpose() * bicycle\n",
    "prediction_bicycle"
   ]
  },
  {
   "cell_type": "code",
   "execution_count": 25,
   "metadata": {
    "collapsed": false
   },
   "outputs": [
    {
     "data": {
      "text/plain": [
       "matrix([[ 0.6],\n",
       "        [ 0.6]])"
      ]
     },
     "execution_count": 25,
     "metadata": {},
     "output_type": "execute_result"
    }
   ],
   "source": [
    "bicycle_no_horizontal = np.matrix('2; 0; 1; 1')\n",
    "prediction_bicycle_no_horizontal =  pinv.transpose() * bicycle_no_horizontal\n",
    "prediction_bicycle_no_horizontal"
   ]
  },
  {
   "cell_type": "code",
   "execution_count": 26,
   "metadata": {
    "collapsed": false
   },
   "outputs": [
    {
     "data": {
      "text/plain": [
       "matrix([[ 1.],\n",
       "        [ 1.]])"
      ]
     },
     "execution_count": 26,
     "metadata": {},
     "output_type": "execute_result"
    }
   ],
   "source": [
    "bicycle_or_unicycle = np.matrix('3; 1; 1; 2')\n",
    "prediction_bicycle_or_unicycle =  pinv.transpose() * bicycle_or_unicycle\n",
    "prediction_bicycle_or_unicycle"
   ]
  }
 ],
 "metadata": {
  "kernelspec": {
   "display_name": "Python 3",
   "language": "python",
   "name": "python3"
  },
  "language_info": {
   "codemirror_mode": {
    "name": "ipython",
    "version": 3
   },
   "file_extension": ".py",
   "mimetype": "text/x-python",
   "name": "python",
   "nbconvert_exporter": "python",
   "pygments_lexer": "ipython3",
   "version": "3.5.1"
  }
 },
 "nbformat": 4,
 "nbformat_minor": 0
}
