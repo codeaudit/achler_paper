{
 "cells": [
  {
   "cell_type": "markdown",
   "metadata": {},
   "source": [
    "# Symbolic neural networks for cognitive capacities\n",
    "[Paper](http://reason.cs.uiuc.edu/tsvi/BICA_93_Main.pdf)"
   ]
  },
  {
   "cell_type": "markdown",
   "metadata": {},
   "source": [
    "## Gradient descent during recognition"
   ]
  },
  {
   "cell_type": "code",
   "execution_count": 2,
   "metadata": {
    "collapsed": true
   },
   "outputs": [],
   "source": [
    "import numpy as np\n",
    "\n",
    "exp = np.matrix('1, 0; 1, 1') # (14)\n",
    "\n",
    "W = np.matrix('1, -1; 0 1') # (15)"
   ]
  },
  {
   "cell_type": "markdown",
   "metadata": {},
   "source": [
    "Solutions:"
   ]
  },
  {
   "cell_type": "code",
   "execution_count": 3,
   "metadata": {
    "collapsed": false
   },
   "outputs": [
    {
     "data": {
      "text/plain": [
       "matrix([[1],\n",
       "        [0]])"
      ]
     },
     "execution_count": 3,
     "metadata": {},
     "output_type": "execute_result"
    }
   ],
   "source": [
    "x1 = 1\n",
    "x2 = 0\n",
    "W * np.matrix([[x1,], [x2,]])"
   ]
  },
  {
   "cell_type": "code",
   "execution_count": 4,
   "metadata": {
    "collapsed": false
   },
   "outputs": [
    {
     "data": {
      "text/plain": [
       "matrix([[0],\n",
       "        [1]])"
      ]
     },
     "execution_count": 4,
     "metadata": {},
     "output_type": "execute_result"
    }
   ],
   "source": [
    "x1 = 1\n",
    "x2 = 1\n",
    "W * np.matrix([[x1,], [x2,]])"
   ]
  },
  {
   "cell_type": "code",
   "execution_count": 5,
   "metadata": {
    "collapsed": true
   },
   "outputs": [],
   "source": [
    "M = np.matrix('1, 0; 1, 1') # (16)"
   ]
  },
  {
   "cell_type": "code",
   "execution_count": 6,
   "metadata": {
    "collapsed": false
   },
   "outputs": [
    {
     "name": "stdout",
     "output_type": "stream",
     "text": [
      "y1_new: 0.5 y2_new 0.75 # Fig 2. t=1f\n"
     ]
    }
   ],
   "source": [
    "y1 = 0.1\n",
    "y2 = 0.1\n",
    "e1 = x1 / (y1 + y2) # (17)\n",
    "e2 = x2 / y2 # (18)\n",
    "dy1_dt = (y1 * x1) / (y1 + y2) - y1 # (19)\n",
    "dy2_dt = (y2 / 2) * (x1 / (y1 + y2) + x2 / y2) - y2 # (20)\n",
    "y1_new = (y1 * x1) / (y1 + y2) # (21)\n",
    "y2_new = (y2 / 2) * (x1 / (y1 + y2) + x2 / y2) # (22)\n",
    "print(\"y1_new:\", y1_new, \"y2_new\", y2_new, \"# Fig 2. t=1f\")"
   ]
  },
  {
   "cell_type": "code",
   "execution_count": 7,
   "metadata": {
    "collapsed": false
   },
   "outputs": [
    {
     "name": "stdout",
     "output_type": "stream",
     "text": [
      "y1_new: 0.4 y2_new 0.8 # Fig 2. t=2f\n"
     ]
    }
   ],
   "source": [
    "y1 = y1_new\n",
    "y2 = y2_new\n",
    "y1_new = (y1 * x1) / (y1 + y2) # (21)\n",
    "y2_new = (y2 / 2) * (x1 / (y1 + y2) + x2 / y2) # (22)\n",
    "print(\"y1_new:\", y1_new, \"y2_new\", y2_new, \"# Fig 2. t=2f\")"
   ]
  },
  {
   "cell_type": "code",
   "execution_count": 8,
   "metadata": {
    "collapsed": false
   },
   "outputs": [
    {
     "name": "stdout",
     "output_type": "stream",
     "text": [
      "y1_new: 0.3333333333333333 y2_new 0.8333333333333333 # Fig 2. t=3f\n"
     ]
    }
   ],
   "source": [
    "y1 = y1_new\n",
    "y2 = y2_new\n",
    "y1_new = (y1 * x1) / (y1 + y2) # (21)\n",
    "y2_new = (y2 / 2) * (x1 / (y1 + y2) + x2 / y2) # (22)\n",
    "print(\"y1_new:\", y1_new, \"y2_new\", y2_new, \"# Fig 2. t=3f\")"
   ]
  },
  {
   "cell_type": "code",
   "execution_count": 9,
   "metadata": {
    "collapsed": false
   },
   "outputs": [
    {
     "name": "stdout",
     "output_type": "stream",
     "text": [
      "y1_new: 0.28571428571428575 y2_new 0.8571428571428572 # Fig 2. t=4f\n"
     ]
    }
   ],
   "source": [
    "y1 = y1_new\n",
    "y2 = y2_new\n",
    "y1_new = (y1 * x1) / (y1 + y2) # (21)\n",
    "y2_new = (y2 / 2) * (x1 / (y1 + y2) + x2 / y2) # (22)\n",
    "print(\"y1_new:\", y1_new, \"y2_new\", y2_new, \"# Fig 2. t=4f\")"
   ]
  },
  {
   "cell_type": "code",
   "execution_count": 10,
   "metadata": {
    "collapsed": false
   },
   "outputs": [
    {
     "name": "stdout",
     "output_type": "stream",
     "text": [
      "y1_new: 0.25 y2_new 0.875 # Fig 2. t=5f\n"
     ]
    }
   ],
   "source": [
    "y1 = y1_new\n",
    "y2 = y2_new\n",
    "y1_new = (y1 * x1) / (y1 + y2) # (21)\n",
    "y2_new = (y2 / 2) * (x1 / (y1 + y2) + x2 / y2) # (22)\n",
    "print(\"y1_new:\", y1_new, \"y2_new\", y2_new, \"# Fig 2. t=5f\")"
   ]
  },
  {
   "cell_type": "code",
   "execution_count": 11,
   "metadata": {
    "collapsed": false
   },
   "outputs": [
    {
     "name": "stdout",
     "output_type": "stream",
     "text": [
      "(0, 0.5, 0.75)\n",
      "(1, 0.4, 0.8)\n",
      "(2, 0.3333333333333333, 0.8333333333333333)\n",
      "(3, 0.28571428571428575, 0.8571428571428572)\n",
      "(4, 0.25, 0.875)\n",
      "(5, 0.2222222222222222, 0.8888888888888888)\n"
     ]
    }
   ],
   "source": [
    "def cycle(y1, y2):\n",
    "    y1_new = (y1 * x1) / (y1 + y2) # (21)\n",
    "    y2_new = (y2 / 2) * (x1 / (y1 + y2) + x2 / y2) # (22)\n",
    "    return y1_new, y2_new\n",
    "    \n",
    "y1 = 0.1\n",
    "y2 = 0.1\n",
    "obs = []\n",
    "for t in range(6):\n",
    "    y1, y2 = cycle(y1, y2)\n",
    "    obs.append( (t, y1, y2) )\n",
    "for observation in obs:\n",
    "    print(observation)"
   ]
  },
  {
   "cell_type": "code",
   "execution_count": 12,
   "metadata": {
    "collapsed": false
   },
   "outputs": [
    {
     "data": {
      "image/png": "[encoded data removed]",
      "text/plain": [
       "<matplotlib.figure.Figure at 0x108129e10>"
      ]
     },
     "metadata": {},
     "output_type": "display_data"
    }
   ],
   "source": [
    "%matplotlib inline\n",
    "\n",
    "import matplotlib\n",
    "import numpy as np\n",
    "import matplotlib.pyplot as plt\n",
    "t = [item[0] for item in obs]\n",
    "Y1 = [item[1] for item in obs]\n",
    "Y2 = [item[2] for item in obs]\n",
    "line1, line1b, = plt.plot(t, Y1, 'o', t, Y1, 'k', label = 'Y1')\n",
    "line2, line2b, = plt.plot(t, Y2, 'o', t, Y2, 'k', markerfacecolor='white', label = 'Y2')\n",
    "plt.title('Fig 2')\n",
    "plt.xlabel('Simulation Time')\n",
    "plt.ylabel('Activity')\n",
    "plt.legend([line1, line2], ['Y1', 'Y2'], loc=5, frameon=False)\n",
    "plt.show()"
   ]
  },
  {
   "cell_type": "code",
   "execution_count": 13,
   "metadata": {
    "collapsed": false
   },
   "outputs": [
    {
     "name": "stdout",
     "output_type": "stream",
     "text": [
      "Steps to 0.99: 98\n"
     ]
    },
    {
     "data": {
      "image/png": "[encoded data removed]",
      "text/plain": [
       "<matplotlib.figure.Figure at 0x10b352550>"
      ]
     },
     "metadata": {},
     "output_type": "display_data"
    }
   ],
   "source": [
    "y1 = 0.1\n",
    "y2 = 0.1\n",
    "t = 0\n",
    "obs = []\n",
    "max_y = 0\n",
    "while max_y < 0.99:\n",
    "    y1, y2 = cycle(y1, y2)\n",
    "    obs.append( (t, y1, y2) )\n",
    "    t += 1\n",
    "    max_y = max(y1, y2)\n",
    "print(\"Steps to 0.99:\", len(obs))\n",
    "t = [item[0] for item in obs]\n",
    "Y1 = [item[1] for item in obs]\n",
    "Y2 = [item[2] for item in obs]\n",
    "line1, line1b, = plt.plot(t, Y1, 'o', t, Y1, 'k', label = 'Y1')\n",
    "line2, line2b, = plt.plot(t, Y2, 'o', t, Y2, 'k', markerfacecolor='white', label = 'Y2')\n",
    "plt.title('Fig 2')\n",
    "plt.xlabel('Simulation Time')\n",
    "plt.ylabel('Activity')\n",
    "plt.legend([line1, line2], ['Y1', 'Y2'], loc=5, frameon=False)\n",
    "plt.show()"
   ]
  },
  {
   "cell_type": "markdown",
   "metadata": {},
   "source": [
    "## Example of a more complex symbolic recognition and recall"
   ]
  },
  {
   "cell_type": "code",
   "execution_count": 14,
   "metadata": {
    "collapsed": false
   },
   "outputs": [
    {
     "name": "stdout",
     "output_type": "stream",
     "text": [
      "[[2 1 1 1]\n",
      " [1 0 0 1]]\n",
      "[[1]\n",
      " [0]]\n",
      "[[0]\n",
      " [1]]\n"
     ]
    }
   ],
   "source": [
    "exp = np.matrix('2, 1, 1, 1; 1, 0, 0, 1') # wheels, horizontal lines, handlebars, seat (25)\n",
    "print(exp)\n",
    "\n",
    "y1 = np.matrix('1; 0')\n",
    "print(y1)\n",
    "y2 = np.matrix('0; 1')\n",
    "print(y2)"
   ]
  },
  {
   "cell_type": "code",
   "execution_count": 15,
   "metadata": {
    "collapsed": false
   },
   "outputs": [
    {
     "name": "stdout",
     "output_type": "stream",
     "text": [
      "[[2]\n",
      " [1]\n",
      " [1]\n",
      " [1]]\n",
      "[[1]\n",
      " [0]\n",
      " [0]\n",
      " [1]]\n"
     ]
    }
   ],
   "source": [
    "bicycle = np.matrix('2; 1; 1; 1')\n",
    "print(bicycle)\n",
    "unicycle = np.matrix('1; 0; 0; 1')\n",
    "print(unicycle)"
   ]
  },
  {
   "cell_type": "code",
   "execution_count": 16,
   "metadata": {
    "collapsed": false
   },
   "outputs": [
    {
     "data": {
      "text/plain": [
       "array([[ 1.],\n",
       "       [-0.]])"
      ]
     },
     "execution_count": 16,
     "metadata": {},
     "output_type": "execute_result"
    }
   ],
   "source": [
    "pinv = np.linalg.pinv(exp)\n",
    "prediction_bicycle =  pinv.transpose() * bicycle\n",
    "prediction_bicycle.round(2)"
   ]
  },
  {
   "cell_type": "code",
   "execution_count": 17,
   "metadata": {
    "collapsed": false
   },
   "outputs": [
    {
     "data": {
      "text/plain": [
       "matrix([[ 0.6],\n",
       "        [ 0.6]])"
      ]
     },
     "execution_count": 17,
     "metadata": {},
     "output_type": "execute_result"
    }
   ],
   "source": [
    "bicycle_no_horizontal = np.matrix('2; 0; 1; 1')\n",
    "prediction_bicycle_no_horizontal =  pinv.transpose() * bicycle_no_horizontal\n",
    "prediction_bicycle_no_horizontal"
   ]
  },
  {
   "cell_type": "markdown",
   "metadata": {},
   "source": [
    "Composite expectation (OR)"
   ]
  },
  {
   "cell_type": "code",
   "execution_count": 18,
   "metadata": {
    "collapsed": false
   },
   "outputs": [
    {
     "data": {
      "text/plain": [
       "matrix([[ 1.],\n",
       "        [ 1.]])"
      ]
     },
     "execution_count": 18,
     "metadata": {},
     "output_type": "execute_result"
    }
   ],
   "source": [
    "bicycle_or_unicycle = np.matrix('3; 1; 1; 2')\n",
    "prediction_bicycle_or_unicycle =  pinv.transpose() * bicycle_or_unicycle\n",
    "prediction_bicycle_or_unicycle"
   ]
  },
  {
   "cell_type": "markdown",
   "metadata": {},
   "source": [
    "How many wheels on a bicycle?"
   ]
  },
  {
   "cell_type": "code",
   "execution_count": 19,
   "metadata": {
    "collapsed": false
   },
   "outputs": [
    {
     "data": {
      "text/plain": [
       "2"
      ]
     },
     "execution_count": 19,
     "metadata": {},
     "output_type": "execute_result"
    }
   ],
   "source": [
    "bicycle = 0\n",
    "wheels = 0\n",
    "exp.item((bicycle, wheels))"
   ]
  },
  {
   "cell_type": "code",
   "execution_count": 20,
   "metadata": {
    "collapsed": false
   },
   "outputs": [
    {
     "data": {
      "text/plain": [
       "1"
      ]
     },
     "execution_count": 20,
     "metadata": {},
     "output_type": "execute_result"
    }
   ],
   "source": [
    "unicycle = 1\n",
    "wheels = 0\n",
    "exp.item((unicycle, wheels))"
   ]
  },
  {
   "cell_type": "markdown",
   "metadata": {},
   "source": [
    "## Learning example"
   ]
  },
  {
   "cell_type": "code",
   "execution_count": 21,
   "metadata": {
    "collapsed": false
   },
   "outputs": [
    {
     "data": {
      "image/png": "[encoded data removed]",
      "text/plain": [
       "<matplotlib.figure.Figure at 0x10bdbdef0>"
      ]
     },
     "metadata": {},
     "output_type": "display_data"
    }
   ],
   "source": [
    "x = np.random.uniform(0, 1, 400)\n",
    "y = np.random.uniform(0, 1, 400)\n",
    "points = [item for item in zip(x,y)]\n",
    "black_x = []\n",
    "black_y = []\n",
    "green_x = []\n",
    "green_y = []\n",
    "for point in points:\n",
    "    if point[1] > point[0]:\n",
    "        black_y.append(point[1])\n",
    "        black_x.append(point[0])\n",
    "    else:\n",
    "        green_y.append(point[1])\n",
    "        green_x.append(point[0])\n",
    "        \n",
    "\n",
    "fig, ax = plt.subplots()\n",
    "gridlines = ax.get_xgridlines() + ax.get_ygridlines()\n",
    "for line in gridlines:\n",
    "    line.set_linestyle('-')\n",
    "ax.grid(True)\n",
    "ax.plot(black_x, black_y, 'ko')\n",
    "ax.plot(green_x, green_y, 'o', markeredgecolor = \"#8EFF2E\", markerfacecolor = \"#8EFF2E\")\n",
    "plt.title('Fig 3')\n",
    "plt.show()"
   ]
  },
  {
   "cell_type": "code",
   "execution_count": 22,
   "metadata": {
    "collapsed": false
   },
   "outputs": [
    {
     "data": {
      "text/plain": [
       "array([[ 0.33,  0.66],\n",
       "       [ 0.66,  0.32]])"
      ]
     },
     "execution_count": 22,
     "metadata": {},
     "output_type": "execute_result"
    }
   ],
   "source": [
    "black_x1 = np.mean(black_x)\n",
    "black_x2 = np.mean(black_y)\n",
    "green_x1 = np.mean(green_x)\n",
    "green_x2 = np.mean(green_y)\n",
    "M = np.matrix([[black_x1, black_x2], [green_x1, green_x2]]) # (27)\n",
    "M.round(2)"
   ]
  },
  {
   "cell_type": "code",
   "execution_count": 23,
   "metadata": {
    "collapsed": false
   },
   "outputs": [
    {
     "data": {
      "text/plain": [
       "matrix([[-0.3813143 ],\n",
       "        [ 1.40553994]])"
      ]
     },
     "execution_count": 23,
     "metadata": {},
     "output_type": "execute_result"
    }
   ],
   "source": [
    "pinv = np.linalg.pinv(M)\n",
    "pinv_transpose = pinv.transpose()\n",
    "green = np.matrix('0.8; 0.2')\n",
    "prediction_green =  pinv_transpose * green\n",
    "prediction_green"
   ]
  },
  {
   "cell_type": "code",
   "execution_count": 24,
   "metadata": {
    "collapsed": false
   },
   "outputs": [
    {
     "data": {
      "text/plain": [
       "matrix([[ 1.41398119],\n",
       "        [-0.41417567]])"
      ]
     },
     "execution_count": 24,
     "metadata": {},
     "output_type": "execute_result"
    }
   ],
   "source": [
    "black = np.matrix('0.2; 0.8')\n",
    "prediction_black =  pinv_transpose * black\n",
    "prediction_black"
   ]
  },
  {
   "cell_type": "code",
   "execution_count": 25,
   "metadata": {
    "collapsed": false
   },
   "outputs": [
    {
     "name": "stdout",
     "output_type": "stream",
     "text": [
      "black 195/195\n"
     ]
    }
   ],
   "source": [
    "black_tally = 0\n",
    "for index, _ in enumerate(black_x):\n",
    "    black = np.matrix([black_x[index], black_y[index]]).transpose()\n",
    "    prediction_black = pinv_transpose * black\n",
    "    if prediction_black.item( (0, 0) ) > prediction_black.item( (1, 0) ):\n",
    "        black_tally += 1\n",
    "    else:\n",
    "        print(prediction_black)\n",
    "print(\"black {}/{}\".format(black_tally, len(black_x)))"
   ]
  },
  {
   "cell_type": "code",
   "execution_count": 26,
   "metadata": {
    "collapsed": false
   },
   "outputs": [
    {
     "name": "stdout",
     "output_type": "stream",
     "text": [
      "[[ 0.65387726]\n",
      " [ 0.63038549]]\n",
      "[[ 1.0044377]\n",
      " [ 0.9903069]]\n",
      "green 203/205\n"
     ]
    }
   ],
   "source": [
    "green_tally = 0\n",
    "for index, _ in enumerate(green_x):\n",
    "    green = np.matrix([green_x[index], green_y[index]]).transpose()\n",
    "    prediction_green = pinv_transpose * green\n",
    "    if prediction_green.item( (0, 0) ) < prediction_green.item( (1, 0) ):\n",
    "        green_tally += 1\n",
    "    else:\n",
    "        print(prediction_green)\n",
    "print(\"green {}/{}\".format(green_tally, len(green_x)))"
   ]
  },
  {
   "cell_type": "markdown",
   "metadata": {},
   "source": [
    "Explicit split 1/3 and 2/3"
   ]
  },
  {
   "cell_type": "code",
   "execution_count": 27,
   "metadata": {
    "collapsed": false
   },
   "outputs": [
    {
     "data": {
      "text/plain": [
       "array([[ 0.33,  0.67],\n",
       "       [ 0.67,  0.33]])"
      ]
     },
     "execution_count": 27,
     "metadata": {},
     "output_type": "execute_result"
    }
   ],
   "source": [
    "M = np.matrix([[1/3, 2/3], [2/3, 1/3]]) # (27)\n",
    "M.round(2)"
   ]
  },
  {
   "cell_type": "code",
   "execution_count": 28,
   "metadata": {
    "collapsed": false
   },
   "outputs": [
    {
     "data": {
      "text/plain": [
       "matrix([[-0.4],\n",
       "        [ 1.4]])"
      ]
     },
     "execution_count": 28,
     "metadata": {},
     "output_type": "execute_result"
    }
   ],
   "source": [
    "pinv = np.linalg.pinv(M)\n",
    "pinv_transpose = pinv.transpose()\n",
    "green = np.matrix('0.8; 0.2')\n",
    "prediction_green =  pinv_transpose * green\n",
    "prediction_green"
   ]
  },
  {
   "cell_type": "code",
   "execution_count": 29,
   "metadata": {
    "collapsed": false
   },
   "outputs": [
    {
     "data": {
      "text/plain": [
       "matrix([[ 1.4],\n",
       "        [-0.4]])"
      ]
     },
     "execution_count": 29,
     "metadata": {},
     "output_type": "execute_result"
    }
   ],
   "source": [
    "black = np.matrix('0.2; 0.8')\n",
    "prediction_black =  pinv_transpose * black\n",
    "prediction_black"
   ]
  },
  {
   "cell_type": "code",
   "execution_count": 30,
   "metadata": {
    "collapsed": false
   },
   "outputs": [
    {
     "name": "stdout",
     "output_type": "stream",
     "text": [
      "black 195/195\n"
     ]
    }
   ],
   "source": [
    "black_tally = 0\n",
    "for index, _ in enumerate(black_x):\n",
    "    black = np.matrix([black_x[index], black_y[index]]).transpose()\n",
    "    prediction_black = pinv_transpose * black\n",
    "    if prediction_black.item( (0, 0) ) > prediction_black.item( (1, 0) ):\n",
    "        black_tally += 1\n",
    "    else:\n",
    "        print(prediction_black)\n",
    "print(\"black {}/{}\".format(black_tally, len(black_x)))"
   ]
  },
  {
   "cell_type": "code",
   "execution_count": 31,
   "metadata": {
    "collapsed": false
   },
   "outputs": [
    {
     "name": "stdout",
     "output_type": "stream",
     "text": [
      "green 205/205\n"
     ]
    }
   ],
   "source": [
    "green_tally = 0\n",
    "for index, _ in enumerate(green_x):\n",
    "    green = np.matrix([green_x[index], green_y[index]]).transpose()\n",
    "    prediction_green = pinv_transpose * green\n",
    "    if prediction_green.item( (0, 0) ) < prediction_green.item( (1, 0) ):\n",
    "        green_tally += 1\n",
    "    else:\n",
    "        print(prediction_green)\n",
    "print(\"green {}/{}\".format(green_tally, len(green_x)))"
   ]
  }
 ],
 "metadata": {
  "kernelspec": {
   "display_name": "Python 3",
   "language": "python",
   "name": "python3"
  },
  "language_info": {
   "codemirror_mode": {
    "name": "ipython",
    "version": 3
   },
   "file_extension": ".py",
   "mimetype": "text/x-python",
   "name": "python",
   "nbconvert_exporter": "python",
   "pygments_lexer": "ipython3",
   "version": "3.5.1"
  }
 },
 "nbformat": 4,
 "nbformat_minor": 0
}
