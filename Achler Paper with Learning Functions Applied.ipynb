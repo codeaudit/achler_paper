{
 "cells": [
  {
   "cell_type": "markdown",
   "metadata": {},
   "source": [
    "# Symbolic neural networks for cognitive capacities\n",
    "[Paper](http://reason.cs.uiuc.edu/tsvi/BICA_93_Main.pdf)"
   ]
  },
  {
   "cell_type": "code",
   "execution_count": 1,
   "metadata": {
    "collapsed": true
   },
   "outputs": [],
   "source": [
    "%run achler_functions.py"
   ]
  },
  {
   "cell_type": "markdown",
   "metadata": {},
   "source": [
    "# Learn Iris dataset instances"
   ]
  },
  {
   "cell_type": "code",
   "execution_count": 2,
   "metadata": {
    "collapsed": false
   },
   "outputs": [
    {
     "name": "stdout",
     "output_type": "stream",
     "text": [
      "(150, 7)\n",
      "[[ 0.2  1.4  5.1 ...,  1.   0.   0. ]\n",
      " [ 0.2  1.4  4.9 ...,  1.   0.   0. ]\n",
      " [ 0.2  1.3  4.7 ...,  1.   0.   0. ]\n",
      " ..., \n",
      " [ 2.   5.2  6.5 ...,  0.   0.   1. ]\n",
      " [ 2.3  5.4  6.2 ...,  0.   0.   1. ]\n",
      " [ 1.8  5.1  5.9 ...,  0.   0.   1. ]]\n",
      "['petal width (cm)', 'petal length (cm)', 'sepal length (cm)', 'sepal width (cm)', 'setosa', 'versicolor', 'virginica']\n"
     ]
    }
   ],
   "source": [
    "from sklearn import datasets\n",
    "import numpy as np\n",
    "iris = datasets.load_iris()\n",
    "exp = np.zeros( (len(iris.data), len(iris.feature_names) + len(iris.target_names)) )\n",
    "exp_labels = []\n",
    "for index, item in enumerate(iris.data):\n",
    "    instance = {}\n",
    "    instance = {iris.target_names[iris.target[index]]: 1}\n",
    "    for i in range(len(iris.feature_names)):\n",
    "        instance[iris.feature_names[i]] = iris.data[index][i]\n",
    "    exp, exp_labels = learn_instance([instance,], exp, exp_labels)\n",
    "print(exp.shape)\n",
    "print(exp)\n",
    "print(exp_labels)"
   ]
  },
  {
   "cell_type": "markdown",
   "metadata": {},
   "source": [
    "## Make categories of the Iris types"
   ]
  },
  {
   "cell_type": "code",
   "execution_count": 3,
   "metadata": {
    "collapsed": false
   },
   "outputs": [
    {
     "data": {
      "text/plain": [
       "{'setosa': matrix([[  12.2,   73.2,  250.3,  170.9,   50. ,    0. ,    0. ]]),\n",
       " 'versicolor': matrix([[  66.3,  213. ,  296.8,  138.5,    0. ,   50. ,    0. ]]),\n",
       " 'virginica': matrix([[ 101.3,  277.6,  329.4,  148.7,    0. ,    0. ,   50. ]])}"
      ]
     },
     "execution_count": 3,
     "metadata": {},
     "output_type": "execute_result"
    }
   ],
   "source": [
    "def make_categories(category_list, exp, exp_labels):\n",
    "    categories = {}\n",
    "    for category in category_list:\n",
    "        if category in exp_labels:\n",
    "            category_index = exp_labels.index(category)\n",
    "            categories[category] = np.matrix(np.zeros(exp.shape[1]))\n",
    "            for index in range(exp.shape[0]):\n",
    "                if exp.item( (index, category_index) ) != 0:\n",
    "                    categories[category] += exp[index, :]\n",
    "    return categories\n",
    "categories = make_categories(iris.target_names, exp, exp_labels)\n",
    "categories"
   ]
  },
  {
   "cell_type": "markdown",
   "metadata": {},
   "source": [
    "Do the categories work?"
   ]
  },
  {
   "cell_type": "code",
   "execution_count": 4,
   "metadata": {
    "collapsed": false
   },
   "outputs": [
    {
     "name": "stdout",
     "output_type": "stream",
     "text": [
      "50/50\n"
     ]
    }
   ],
   "source": [
    "pinv = np.linalg.pinv(exp)\n",
    "pinv_transpose = pinv.transpose()\n",
    "prediction_setosa = pinv_transpose * categories[\"setosa\"].T\n",
    "hit = 0\n",
    "miss = 0\n",
    "for i in range(len(iris.data)):\n",
    "    if iris.target[i] == 0:\n",
    "        if round( prediction_setosa.item( (i, 0) ), 2) == 1.0:\n",
    "            hit += 1\n",
    "        else:\n",
    "            print(i, prediction_setosa.item( (i, 0) ), \"<>\", iris.target[i])\n",
    "            miss += 1\n",
    "print(\"{}/{}\".format(hit, hit + miss))"
   ]
  },
  {
   "cell_type": "code",
   "execution_count": 5,
   "metadata": {
    "collapsed": false
   },
   "outputs": [
    {
     "name": "stdout",
     "output_type": "stream",
     "text": [
      "50/50\n"
     ]
    }
   ],
   "source": [
    "prediction_versicolor = pinv_transpose * categories[\"versicolor\"].T\n",
    "hit = 0\n",
    "miss = 0\n",
    "for i in range(len(iris.data)):\n",
    "    if iris.target[i] == 1:\n",
    "        if round( prediction_versicolor.item( (i, 0) ), 2) == 1.0:\n",
    "            hit += 1\n",
    "        else:\n",
    "            print(i, prediction_versicolor.item( (i, 0) ), \"<>\", iris.target[i])\n",
    "            miss += 1\n",
    "print(\"{}/{}\".format(hit, hit + miss))"
   ]
  },
  {
   "cell_type": "code",
   "execution_count": 6,
   "metadata": {
    "collapsed": false
   },
   "outputs": [
    {
     "name": "stdout",
     "output_type": "stream",
     "text": [
      "50/50\n"
     ]
    }
   ],
   "source": [
    "prediction_virginica = pinv_transpose * categories[\"virginica\"].T\n",
    "hit = 0\n",
    "miss = 0\n",
    "for i in range(len(iris.data)):\n",
    "    if iris.target[i] == 2:\n",
    "        if round( prediction_virginica.item( (i, 0) ), 2) == 1.0:\n",
    "            hit += 1\n",
    "        else:\n",
    "            print(i, prediction_virginica.item( (i, 0) ), \"<>\", iris.target[i])\n",
    "            miss += 1\n",
    "print(\"{}/{}\".format(hit, hit + miss))"
   ]
  },
  {
   "cell_type": "markdown",
   "metadata": {},
   "source": [
    "How does some new instance get classified?"
   ]
  },
  {
   "cell_type": "code",
   "execution_count": 7,
   "metadata": {
    "collapsed": false
   },
   "outputs": [
    {
     "data": {
      "text/plain": [
       "array([ 5.1,  3.5,  1.4,  0.3])"
      ]
     },
     "execution_count": 7,
     "metadata": {},
     "output_type": "execute_result"
    }
   ],
   "source": [
    "iris.data[17]"
   ]
  },
  {
   "cell_type": "code",
   "execution_count": 8,
   "metadata": {
    "collapsed": false
   },
   "outputs": [
    {
     "data": {
      "text/plain": [
       "'setosa'"
      ]
     },
     "execution_count": 8,
     "metadata": {},
     "output_type": "execute_result"
    }
   ],
   "source": [
    "iris.target_names[iris.target[17]]"
   ]
  },
  {
   "cell_type": "code",
   "execution_count": 9,
   "metadata": {
    "collapsed": false
   },
   "outputs": [
    {
     "data": {
      "text/plain": [
       "['sepal length (cm)',\n",
       " 'sepal width (cm)',\n",
       " 'petal length (cm)',\n",
       " 'petal width (cm)']"
      ]
     },
     "execution_count": 9,
     "metadata": {},
     "output_type": "execute_result"
    }
   ],
   "source": [
    "iris.feature_names"
   ]
  },
  {
   "cell_type": "code",
   "execution_count": 10,
   "metadata": {
    "collapsed": true
   },
   "outputs": [],
   "source": [
    "instance = {'sepal length (cm)' : 5.0, # a tweak on instance 17\n",
    " 'sepal width (cm)': 3.5,\n",
    " 'petal length (cm)': 1.4,\n",
    " 'petal width (cm)': 0.3}"
   ]
  },
  {
   "cell_type": "code",
   "execution_count": 11,
   "metadata": {
    "collapsed": false
   },
   "outputs": [
    {
     "data": {
      "text/plain": [
       "matrix([[ 0.3,  1.4,  5. ,  3.5,  0. ,  0. ,  0. ]])"
      ]
     },
     "execution_count": 11,
     "metadata": {},
     "output_type": "execute_result"
    }
   ],
   "source": [
    "instance_vector = vectorize(instance, exp, exp_labels)\n",
    "instance_vector[0]"
   ]
  },
  {
   "cell_type": "code",
   "execution_count": 12,
   "metadata": {
    "collapsed": false
   },
   "outputs": [
    {
     "name": "stdout",
     "output_type": "stream",
     "text": [
      "0.26\n"
     ]
    },
    {
     "data": {
      "text/plain": [
       "'setosa'"
      ]
     },
     "execution_count": 12,
     "metadata": {},
     "output_type": "execute_result"
    }
   ],
   "source": [
    "prediction = pinv_transpose * instance_vector[0].T\n",
    "print(round(prediction.max(),2))\n",
    "iris.target_names[iris.target.item( prediction.argmax() )]"
   ]
  },
  {
   "cell_type": "markdown",
   "metadata": {},
   "source": [
    "Try missing out a property:"
   ]
  },
  {
   "cell_type": "code",
   "execution_count": 13,
   "metadata": {
    "collapsed": true
   },
   "outputs": [],
   "source": [
    "instance = {'sepal width (cm)': 3.5,\n",
    " 'petal length (cm)': 1.4,\n",
    " 'petal width (cm)': 0.3}"
   ]
  },
  {
   "cell_type": "code",
   "execution_count": 14,
   "metadata": {
    "collapsed": false
   },
   "outputs": [
    {
     "data": {
      "text/plain": [
       "matrix([[ 0.3,  1.4,  0. ,  3.5,  0. ,  0. ,  0. ]])"
      ]
     },
     "execution_count": 14,
     "metadata": {},
     "output_type": "execute_result"
    }
   ],
   "source": [
    "instance_vector = vectorize(instance, exp, exp_labels)\n",
    "instance_vector[0]"
   ]
  },
  {
   "cell_type": "code",
   "execution_count": 15,
   "metadata": {
    "collapsed": false
   },
   "outputs": [
    {
     "name": "stdout",
     "output_type": "stream",
     "text": [
      "0.24\n"
     ]
    },
    {
     "data": {
      "text/plain": [
       "'setosa'"
      ]
     },
     "execution_count": 15,
     "metadata": {},
     "output_type": "execute_result"
    }
   ],
   "source": [
    "prediction = pinv_transpose * instance_vector[0].T\n",
    "print(round(prediction.max(),2))\n",
    "iris.target_names[iris.target.item( prediction.argmax() )]"
   ]
  },
  {
   "cell_type": "markdown",
   "metadata": {},
   "source": [
    "Try missing out a different property:"
   ]
  },
  {
   "cell_type": "code",
   "execution_count": 16,
   "metadata": {
    "collapsed": true
   },
   "outputs": [],
   "source": [
    "instance = {'sepal length (cm)' : 5.1,\n",
    " 'petal length (cm)': 1.4,\n",
    " 'petal width (cm)': 0.3}"
   ]
  },
  {
   "cell_type": "code",
   "execution_count": 17,
   "metadata": {
    "collapsed": false
   },
   "outputs": [
    {
     "data": {
      "text/plain": [
       "matrix([[ 0.3,  1.4,  5.1,  0. ,  0. ,  0. ,  0. ]])"
      ]
     },
     "execution_count": 17,
     "metadata": {},
     "output_type": "execute_result"
    }
   ],
   "source": [
    "instance_vector = vectorize(instance, exp, exp_labels)\n",
    "instance_vector[0]"
   ]
  },
  {
   "cell_type": "code",
   "execution_count": 18,
   "metadata": {
    "collapsed": false
   },
   "outputs": [
    {
     "name": "stdout",
     "output_type": "stream",
     "text": [
      "0.25\n"
     ]
    },
    {
     "data": {
      "text/plain": [
       "'virginica'"
      ]
     },
     "execution_count": 18,
     "metadata": {},
     "output_type": "execute_result"
    }
   ],
   "source": [
    "prediction = pinv_transpose * instance_vector[0].T\n",
    "print(round(prediction.max(),2))\n",
    "iris.target_names[iris.target.item( prediction.argmax() )]"
   ]
  },
  {
   "cell_type": "markdown",
   "metadata": {},
   "source": [
    "Try just two distiguishing properties:"
   ]
  },
  {
   "cell_type": "code",
   "execution_count": 19,
   "metadata": {
    "collapsed": true
   },
   "outputs": [],
   "source": [
    "instance = {'petal length (cm)': 1.4,\n",
    " 'petal width (cm)': 0.3}"
   ]
  },
  {
   "cell_type": "code",
   "execution_count": 20,
   "metadata": {
    "collapsed": false
   },
   "outputs": [
    {
     "data": {
      "text/plain": [
       "matrix([[ 0.3,  1.4,  0. ,  0. ,  0. ,  0. ,  0. ]])"
      ]
     },
     "execution_count": 20,
     "metadata": {},
     "output_type": "execute_result"
    }
   ],
   "source": [
    "instance_vector = vectorize(instance, exp, exp_labels)\n",
    "instance_vector[0]"
   ]
  },
  {
   "cell_type": "code",
   "execution_count": 21,
   "metadata": {
    "collapsed": false
   },
   "outputs": [
    {
     "name": "stdout",
     "output_type": "stream",
     "text": [
      "0.09\n"
     ]
    },
    {
     "data": {
      "text/plain": [
       "'versicolor'"
      ]
     },
     "execution_count": 21,
     "metadata": {},
     "output_type": "execute_result"
    }
   ],
   "source": [
    "prediction = pinv_transpose * instance_vector[0].T\n",
    "print(round(prediction.max(),2))\n",
    "iris.target_names[iris.target.item( prediction.argmax() )]"
   ]
  },
  {
   "cell_type": "markdown",
   "metadata": {},
   "source": [
    "How about the \"average setosa\"?"
   ]
  },
  {
   "cell_type": "code",
   "execution_count": 22,
   "metadata": {
    "collapsed": false
   },
   "outputs": [
    {
     "data": {
      "text/plain": [
       "matrix([[ 0.244,  1.464,  5.006,  3.418,  1.   ,  0.   ,  0.   ]])"
      ]
     },
     "execution_count": 22,
     "metadata": {},
     "output_type": "execute_result"
    }
   ],
   "source": [
    "categories[\"setosa\"] / 50"
   ]
  },
  {
   "cell_type": "code",
   "execution_count": 23,
   "metadata": {
    "collapsed": false
   },
   "outputs": [
    {
     "name": "stdout",
     "output_type": "stream",
     "text": [
      "0.02\n"
     ]
    },
    {
     "data": {
      "text/plain": [
       "'setosa'"
      ]
     },
     "execution_count": 23,
     "metadata": {},
     "output_type": "execute_result"
    }
   ],
   "source": [
    "prediction = pinv_transpose * (categories[\"setosa\"] / 50).T\n",
    "print(round(prediction.max(),2))\n",
    "iris.target_names[iris.target.item( prediction.argmax() )]"
   ]
  },
  {
   "cell_type": "markdown",
   "metadata": {},
   "source": [
    "How about the \"average virginica\"?"
   ]
  },
  {
   "cell_type": "code",
   "execution_count": 24,
   "metadata": {
    "collapsed": false
   },
   "outputs": [
    {
     "data": {
      "text/plain": [
       "matrix([[ 2.026,  5.552,  6.588,  2.974,  0.   ,  0.   ,  1.   ]])"
      ]
     },
     "execution_count": 24,
     "metadata": {},
     "output_type": "execute_result"
    }
   ],
   "source": [
    "categories[\"virginica\"] / 50"
   ]
  },
  {
   "cell_type": "code",
   "execution_count": 25,
   "metadata": {
    "collapsed": false
   },
   "outputs": [
    {
     "name": "stdout",
     "output_type": "stream",
     "text": [
      "0.02\n"
     ]
    },
    {
     "data": {
      "text/plain": [
       "'virginica'"
      ]
     },
     "execution_count": 25,
     "metadata": {},
     "output_type": "execute_result"
    }
   ],
   "source": [
    "prediction = pinv_transpose * (categories[\"virginica\"] / 50).T\n",
    "print(round(prediction.max(),2))\n",
    "iris.target_names[iris.target.item( prediction.argmax() )]"
   ]
  },
  {
   "cell_type": "markdown",
   "metadata": {},
   "source": [
    "How about the \"average versicolor\"?"
   ]
  },
  {
   "cell_type": "code",
   "execution_count": 26,
   "metadata": {
    "collapsed": false
   },
   "outputs": [
    {
     "data": {
      "text/plain": [
       "matrix([[ 1.326,  4.26 ,  5.936,  2.77 ,  0.   ,  1.   ,  0.   ]])"
      ]
     },
     "execution_count": 26,
     "metadata": {},
     "output_type": "execute_result"
    }
   ],
   "source": [
    "avg_versicolor = categories[\"versicolor\"] / 50\n",
    "avg_versicolor"
   ]
  },
  {
   "cell_type": "code",
   "execution_count": 27,
   "metadata": {
    "collapsed": false
   },
   "outputs": [
    {
     "name": "stdout",
     "output_type": "stream",
     "text": [
      "0.02\n"
     ]
    },
    {
     "data": {
      "text/plain": [
       "'versicolor'"
      ]
     },
     "execution_count": 27,
     "metadata": {},
     "output_type": "execute_result"
    }
   ],
   "source": [
    "prediction = pinv_transpose * avg_versicolor.T\n",
    "print(round(prediction.max(),2))\n",
    "iris.target_names[iris.target.item( prediction.argmax() )]"
   ]
  },
  {
   "cell_type": "markdown",
   "metadata": {},
   "source": [
    "Unlabled doesn't work, however:"
   ]
  },
  {
   "cell_type": "code",
   "execution_count": 28,
   "metadata": {
    "collapsed": false
   },
   "outputs": [
    {
     "data": {
      "text/plain": [
       "{'petal length (cm)': 4.26,\n",
       " 'petal width (cm)': 1.3259999999999998,\n",
       " 'sepal length (cm)': 5.936,\n",
       " 'sepal width (cm)': 2.7700000000000005}"
      ]
     },
     "execution_count": 28,
     "metadata": {},
     "output_type": "execute_result"
    }
   ],
   "source": [
    "instance = {'sepal length (cm)' : avg_versicolor.item( 0, exp_labels.index('sepal length (cm)') ),\n",
    " 'sepal width (cm)' : avg_versicolor.item( 0, exp_labels.index('sepal width (cm)') ),\n",
    " 'petal length (cm)' : avg_versicolor.item( 0, exp_labels.index('petal length (cm)') ),\n",
    " 'petal width (cm)' : avg_versicolor.item( 0, exp_labels.index('petal width (cm)') )}\n",
    "instance"
   ]
  },
  {
   "cell_type": "code",
   "execution_count": 29,
   "metadata": {
    "collapsed": false
   },
   "outputs": [
    {
     "data": {
      "text/plain": [
       "matrix([[ 1.326,  4.26 ,  5.936,  2.77 ,  0.   ,  0.   ,  0.   ]])"
      ]
     },
     "execution_count": 29,
     "metadata": {},
     "output_type": "execute_result"
    }
   ],
   "source": [
    "instance_vector = vectorize(instance, exp, exp_labels)\n",
    "instance_vector[0]"
   ]
  },
  {
   "cell_type": "code",
   "execution_count": 30,
   "metadata": {
    "collapsed": false
   },
   "outputs": [
    {
     "name": "stdout",
     "output_type": "stream",
     "text": [
      "0.21\n"
     ]
    },
    {
     "data": {
      "text/plain": [
       "'virginica'"
      ]
     },
     "execution_count": 30,
     "metadata": {},
     "output_type": "execute_result"
    }
   ],
   "source": [
    "prediction = pinv_transpose * instance_vector[0].T\n",
    "print(round(prediction.max(),2))\n",
    "iris.target_names[iris.target.item( prediction.argmax() )]"
   ]
  }
 ],
 "metadata": {
  "kernelspec": {
   "display_name": "Python 3",
   "language": "python",
   "name": "python3"
  },
  "language_info": {
   "codemirror_mode": {
    "name": "ipython",
    "version": 3
   },
   "file_extension": ".py",
   "mimetype": "text/x-python",
   "name": "python",
   "nbconvert_exporter": "python",
   "pygments_lexer": "ipython3",
   "version": "3.5.1"
  }
 },
 "nbformat": 4,
 "nbformat_minor": 0
}
