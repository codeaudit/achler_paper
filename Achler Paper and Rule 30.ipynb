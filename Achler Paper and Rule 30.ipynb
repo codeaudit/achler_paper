{
 "cells": [
  {
   "cell_type": "markdown",
   "metadata": {},
   "source": [
    "# Symbolic neural networks for cognitive capacities\n",
    "[Paper](http://reason.cs.uiuc.edu/tsvi/BICA_93_Main.pdf)"
   ]
  },
  {
   "cell_type": "code",
   "execution_count": 1,
   "metadata": {
    "collapsed": true
   },
   "outputs": [],
   "source": [
    "%run achler_functions.py"
   ]
  },
  {
   "cell_type": "markdown",
   "metadata": {},
   "source": [
    "Wolfram's [Rule 30](https://www.wolframalpha.com/input/?i=rule+30) defines a boolean vector transformation which produces randomness -- creatively?"
   ]
  },
  {
   "cell_type": "code",
   "execution_count": 2,
   "metadata": {
    "collapsed": false
   },
   "outputs": [
    {
     "name": "stdout",
     "output_type": "stream",
     "text": [
      "[[ 0.  0.  0.  0.  0.  0.  0.  0.  0.  0.  0.  0.  0.  0.  0.  0.  0.]\n",
      " [ 0.  0.  0.  0.  0.  0.  0.  0.  0.  0.  0.  0.  0.  0.  0.  0.  0.]\n",
      " [ 0.  0.  0.  0.  0.  0.  0.  0.  0.  0.  0.  0.  0.  0.  0.  0.  0.]\n",
      " [ 0.  0.  0.  0.  0.  0.  0.  0.  0.  0.  0.  0.  0.  0.  0.  0.  0.]\n",
      " [ 0.  0.  0.  0.  0.  0.  0.  0.  0.  0.  0.  0.  0.  0.  0.  0.  0.]\n",
      " [ 0.  0.  0.  0.  0.  0.  0.  0.  0.  0.  0.  0.  0.  0.  0.  0.  0.]\n",
      " [ 0.  0.  0.  0.  0.  0.  0.  0.  0.  0.  0.  0.  0.  0.  0.  0.  0.]\n",
      " [ 0.  0.  0.  0.  0.  0.  0.  0.  0.  0.  0.  0.  0.  0.  0.  0.  0.]\n",
      " [ 0.  0.  0.  0.  0.  0.  0.  0.  0.  0.  0.  0.  0.  0.  0.  0.  0.]]\n",
      "(9, 17)\n"
     ]
    }
   ],
   "source": [
    "import numpy as np\n",
    "exp = np.zeros((9, 17))\n",
    "print(exp)\n",
    "print(exp.shape)"
   ]
  },
  {
   "cell_type": "code",
   "execution_count": 3,
   "metadata": {
    "collapsed": false
   },
   "outputs": [
    {
     "name": "stdout",
     "output_type": "stream",
     "text": [
      "[[ 0.  0.  0.  0.  0.  0.  0.  0.  1.  0.  0.  0.  0.  0.  0.  0.  0.]\n",
      " [ 0.  0.  0.  0.  0.  0.  0.  0.  0.  0.  0.  0.  0.  0.  0.  0.  0.]\n",
      " [ 0.  0.  0.  0.  0.  0.  0.  0.  0.  0.  0.  0.  0.  0.  0.  0.  0.]\n",
      " [ 0.  0.  0.  0.  0.  0.  0.  0.  0.  0.  0.  0.  0.  0.  0.  0.  0.]\n",
      " [ 0.  0.  0.  0.  0.  0.  0.  0.  0.  0.  0.  0.  0.  0.  0.  0.  0.]\n",
      " [ 0.  0.  0.  0.  0.  0.  0.  0.  0.  0.  0.  0.  0.  0.  0.  0.  0.]\n",
      " [ 0.  0.  0.  0.  0.  0.  0.  0.  0.  0.  0.  0.  0.  0.  0.  0.  0.]\n",
      " [ 0.  0.  0.  0.  0.  0.  0.  0.  0.  0.  0.  0.  0.  0.  0.  0.  0.]\n",
      " [ 0.  0.  0.  0.  0.  0.  0.  0.  0.  0.  0.  0.  0.  0.  0.  0.  0.]]\n",
      "['col-8', 'col-7', 'col-6', 'col-5', 'col-4', 'col-3', 'col-2', 'col-1', 'col0', 'col1', 'col2', 'col3', 'col4', 'col5', 'col6', 'col7', 'col8']\n"
     ]
    }
   ],
   "source": [
    "from collections import OrderedDict\n",
    "init = OrderedDict({\"col-8\": 0})\n",
    "init[\"col-7\"] = 0\n",
    "init[\"col-6\"] = 0\n",
    "init[\"col-5\"] = 0\n",
    "init[\"col-4\"] = 0\n",
    "init[\"col-3\"] = 0\n",
    "init[\"col-2\"] = 0\n",
    "init[\"col-1\"] = 0\n",
    "init[\"col0\"] = 1\n",
    "init[\"col1\"] = 0\n",
    "init[\"col2\"] = 0\n",
    "init[\"col3\"] = 0\n",
    "init[\"col4\"] = 0\n",
    "init[\"col5\"] = 0\n",
    "init[\"col6\"] = 0\n",
    "init[\"col7\"] = 0\n",
    "init[\"col8\"] = 0\n",
    "exp_labels = []\n",
    "exp, exp_labels = learn_instance([init,], exp, exp_labels)\n",
    "print(exp)\n",
    "print(exp_labels)"
   ]
  },
  {
   "cell_type": "code",
   "execution_count": 4,
   "metadata": {
    "collapsed": false
   },
   "outputs": [
    {
     "data": {
      "text/plain": [
       "OrderedDict([('col-8', 0),\n",
       "             ('col-7', 0),\n",
       "             ('col-6', 0),\n",
       "             ('col-5', 0),\n",
       "             ('col-4', 0),\n",
       "             ('col-3', 0),\n",
       "             ('col-2', 0),\n",
       "             ('col-1', 1),\n",
       "             ('col0', 1),\n",
       "             ('col1', 1),\n",
       "             ('col2', 0),\n",
       "             ('col3', 0),\n",
       "             ('col4', 0),\n",
       "             ('col5', 0),\n",
       "             ('col6', 0),\n",
       "             ('col7', 0),\n",
       "             ('col8', 0)])"
      ]
     },
     "execution_count": 4,
     "metadata": {},
     "output_type": "execute_result"
    }
   ],
   "source": [
    "def rule_30(instance):\n",
    "    # (p + q + r + q r) mod 2\n",
    "    keys = list(instance.keys())\n",
    "    transformed_instance = OrderedDict({})\n",
    "    for offset in range(len(keys)):\n",
    "        p = 0\n",
    "        q = instance[keys[offset]]\n",
    "        r = 0\n",
    "        if offset > 0:\n",
    "            p = instance[keys[offset - 1]]\n",
    "        if offset < len(keys) - 1:\n",
    "            r = instance[keys[offset + 1]]\n",
    "        transformed_instance[keys[offset]] = (p + q + r + q * r) % 2\n",
    "    return transformed_instance\n",
    "transformed_instance = rule_30(init)\n",
    "transformed_instance"
   ]
  },
  {
   "cell_type": "code",
   "execution_count": 5,
   "metadata": {
    "collapsed": false
   },
   "outputs": [
    {
     "data": {
      "text/plain": [
       "array([[ 0.,  0.,  0.,  0.,  0.,  0.,  0.,  0.,  1.,  0.,  0.,  0.,  0.,\n",
       "         0.,  0.,  0.,  0.],\n",
       "       [ 0.,  0.,  0.,  0.,  0.,  0.,  0.,  1.,  1.,  1.,  0.,  0.,  0.,\n",
       "         0.,  0.,  0.,  0.],\n",
       "       [ 0.,  0.,  0.,  0.,  0.,  0.,  0.,  0.,  0.,  0.,  0.,  0.,  0.,\n",
       "         0.,  0.,  0.,  0.],\n",
       "       [ 0.,  0.,  0.,  0.,  0.,  0.,  0.,  0.,  0.,  0.,  0.,  0.,  0.,\n",
       "         0.,  0.,  0.,  0.],\n",
       "       [ 0.,  0.,  0.,  0.,  0.,  0.,  0.,  0.,  0.,  0.,  0.,  0.,  0.,\n",
       "         0.,  0.,  0.,  0.],\n",
       "       [ 0.,  0.,  0.,  0.,  0.,  0.,  0.,  0.,  0.,  0.,  0.,  0.,  0.,\n",
       "         0.,  0.,  0.,  0.],\n",
       "       [ 0.,  0.,  0.,  0.,  0.,  0.,  0.,  0.,  0.,  0.,  0.,  0.,  0.,\n",
       "         0.,  0.,  0.,  0.],\n",
       "       [ 0.,  0.,  0.,  0.,  0.,  0.,  0.,  0.,  0.,  0.,  0.,  0.,  0.,\n",
       "         0.,  0.,  0.,  0.],\n",
       "       [ 0.,  0.,  0.,  0.,  0.,  0.,  0.,  0.,  0.,  0.,  0.,  0.,  0.,\n",
       "         0.,  0.,  0.,  0.]])"
      ]
     },
     "execution_count": 5,
     "metadata": {},
     "output_type": "execute_result"
    }
   ],
   "source": [
    "exp, exp_labels = learn_instance([transformed_instance,], exp, exp_labels)\n",
    "exp"
   ]
  },
  {
   "cell_type": "code",
   "execution_count": 6,
   "metadata": {
    "collapsed": false
   },
   "outputs": [
    {
     "data": {
      "text/plain": [
       "array([[ 0.,  0.,  0.,  0.,  0.,  0.,  0.,  0.,  1.,  0.,  0.,  0.,  0.,\n",
       "         0.,  0.,  0.,  0.],\n",
       "       [ 0.,  0.,  0.,  0.,  0.,  0.,  0.,  1.,  1.,  1.,  0.,  0.,  0.,\n",
       "         0.,  0.,  0.,  0.],\n",
       "       [ 0.,  0.,  0.,  0.,  0.,  0.,  1.,  1.,  0.,  0.,  1.,  0.,  0.,\n",
       "         0.,  0.,  0.,  0.],\n",
       "       [ 0.,  0.,  0.,  0.,  0.,  0.,  0.,  0.,  0.,  0.,  0.,  0.,  0.,\n",
       "         0.,  0.,  0.,  0.],\n",
       "       [ 0.,  0.,  0.,  0.,  0.,  0.,  0.,  0.,  0.,  0.,  0.,  0.,  0.,\n",
       "         0.,  0.,  0.,  0.],\n",
       "       [ 0.,  0.,  0.,  0.,  0.,  0.,  0.,  0.,  0.,  0.,  0.,  0.,  0.,\n",
       "         0.,  0.,  0.,  0.],\n",
       "       [ 0.,  0.,  0.,  0.,  0.,  0.,  0.,  0.,  0.,  0.,  0.,  0.,  0.,\n",
       "         0.,  0.,  0.,  0.],\n",
       "       [ 0.,  0.,  0.,  0.,  0.,  0.,  0.,  0.,  0.,  0.,  0.,  0.,  0.,\n",
       "         0.,  0.,  0.,  0.],\n",
       "       [ 0.,  0.,  0.,  0.,  0.,  0.,  0.,  0.,  0.,  0.,  0.,  0.,  0.,\n",
       "         0.,  0.,  0.,  0.]])"
      ]
     },
     "execution_count": 6,
     "metadata": {},
     "output_type": "execute_result"
    }
   ],
   "source": [
    "transformed_instance = rule_30(transformed_instance)\n",
    "exp, exp_labels = learn_instance([transformed_instance,], exp, exp_labels)\n",
    "exp"
   ]
  },
  {
   "cell_type": "code",
   "execution_count": 7,
   "metadata": {
    "collapsed": false
   },
   "outputs": [
    {
     "data": {
      "text/plain": [
       "array([[ 0.,  0.,  0.,  0.,  0.,  0.,  0.,  0.,  1.,  0.,  0.,  0.,  0.,\n",
       "         0.,  0.,  0.,  0.],\n",
       "       [ 0.,  0.,  0.,  0.,  0.,  0.,  0.,  1.,  1.,  1.,  0.,  0.,  0.,\n",
       "         0.,  0.,  0.,  0.],\n",
       "       [ 0.,  0.,  0.,  0.,  0.,  0.,  1.,  1.,  0.,  0.,  1.,  0.,  0.,\n",
       "         0.,  0.,  0.,  0.],\n",
       "       [ 0.,  0.,  0.,  0.,  0.,  1.,  1.,  0.,  1.,  1.,  1.,  1.,  0.,\n",
       "         0.,  0.,  0.,  0.],\n",
       "       [ 0.,  0.,  0.,  0.,  1.,  1.,  0.,  0.,  1.,  0.,  0.,  0.,  1.,\n",
       "         0.,  0.,  0.,  0.],\n",
       "       [ 0.,  0.,  0.,  1.,  1.,  0.,  1.,  1.,  1.,  1.,  0.,  1.,  1.,\n",
       "         1.,  0.,  0.,  0.],\n",
       "       [ 0.,  0.,  1.,  1.,  0.,  0.,  1.,  0.,  0.,  0.,  0.,  1.,  0.,\n",
       "         0.,  1.,  0.,  0.],\n",
       "       [ 0.,  1.,  1.,  0.,  1.,  1.,  1.,  1.,  0.,  0.,  1.,  1.,  1.,\n",
       "         1.,  1.,  1.,  0.],\n",
       "       [ 1.,  1.,  0.,  0.,  1.,  0.,  0.,  0.,  1.,  1.,  1.,  0.,  0.,\n",
       "         0.,  0.,  0.,  1.]])"
      ]
     },
     "execution_count": 7,
     "metadata": {},
     "output_type": "execute_result"
    }
   ],
   "source": [
    "for i in range(6):\n",
    "    transformed_instance = rule_30(transformed_instance)\n",
    "    exp, exp_labels = learn_instance([transformed_instance,], exp, exp_labels)\n",
    "exp"
   ]
  },
  {
   "cell_type": "code",
   "execution_count": 8,
   "metadata": {
    "collapsed": false
   },
   "outputs": [
    {
     "data": {
      "image/png": "[encoded data removed]",
      "text/plain": [
       "<matplotlib.figure.Figure at 0x10823bcf8>"
      ]
     },
     "metadata": {},
     "output_type": "display_data"
    }
   ],
   "source": [
    "%matplotlib inline\n",
    "import matplotlib.pyplot as plt \n",
    "fig, ax = plt.subplots()\n",
    "mat = ax.matshow(exp)\n",
    "plt.imshow(exp, cmap='Greys',  interpolation='nearest')\n",
    "plt.show()"
   ]
  },
  {
   "cell_type": "code",
   "execution_count": 9,
   "metadata": {
    "collapsed": false
   },
   "outputs": [
    {
     "name": "stdout",
     "output_type": "stream",
     "text": [
      "[[ -1.09471095e-01   1.89421894e-01  -1.29151292e-02  -1.29766298e-01\n",
      "   -3.08118081e-01  -4.93234932e-01   9.90159902e-02  -2.18327183e-01\n",
      "    1.00000000e+00  -7.81672817e-01   1.19311193e-01   5.65805658e-02\n",
      "   -1.98646986e-01   4.80934809e-01  -1.29151292e-02   2.98892989e-01\n",
      "   -1.09471095e-01]\n",
      " [ -4.79704797e-02  -4.05904059e-02   2.52767528e-01  -7.93357934e-02\n",
      "   -1.12546125e-01   1.77121771e-01  -2.71217712e-01   5.11070111e-01\n",
      "    5.55111512e-16   4.88929889e-01  -2.39852399e-01  -1.54981550e-01\n",
      "   -6.45756458e-02  -3.17343173e-01   2.52767528e-01   7.38007380e-03\n",
      "   -4.79704797e-02]\n",
      " [  3.25953260e-02  -1.51906519e-01  -6.91881919e-02   6.67281673e-02\n",
      "    6.36531365e-02  -9.47109471e-02   3.63776138e-01   3.06580566e-01\n",
      "    2.87964097e-16  -3.06580566e-01   3.29643296e-01  -2.92127921e-01\n",
      "    3.10578106e-02  -2.33087331e-01  -6.91881919e-02  -1.84501845e-01\n",
      "    3.25953260e-02]\n",
      " [ -7.19557196e-02  -6.08856089e-02  -1.20848708e-01  -1.19003690e-01\n",
      "   -1.68819188e-01   2.65682657e-01   9.31734317e-02  -2.33394834e-01\n",
      "    3.30031141e-16   2.33394834e-01   1.40221402e-01   2.67527675e-01\n",
      "   -9.68634686e-02   2.39852399e-02  -1.20848708e-01   1.10701107e-02\n",
      "   -7.19557196e-02]\n",
      " [  1.90651907e-02  -2.14637146e-01   7.90282903e-02   9.56334563e-02\n",
      "    3.13960640e-01   3.91143911e-01   5.22755228e-03   6.61131611e-02\n",
      "   -2.22044605e-16  -6.61131611e-02  -7.13407134e-02  -2.58917589e-01\n",
      "    2.94895449e-01  -4.50799508e-01   7.90282903e-02  -2.33702337e-01\n",
      "    1.90651907e-02]\n",
      " [ -1.47601476e-02  -3.81303813e-02  -2.17097171e-01   1.67896679e-01\n",
      "    1.06396064e-01  -2.27552276e-01   1.08856089e-01  -3.50553506e-02\n",
      "    9.71445147e-17   3.50553506e-02  -7.38007380e-02   1.57441574e-01\n",
      "    1.21156212e-01   3.38253383e-01  -2.17097171e-01  -2.33702337e-02\n",
      "   -1.47601476e-02]\n",
      " [  7.93357934e-02  -8.67158672e-02   3.12730627e-01   2.85055351e-01\n",
      "    3.22878229e-02   1.47601476e-02   1.02398524e-01   9.22509225e-04\n",
      "   -3.05311332e-16  -9.22509225e-04  -1.03321033e-01  -1.29151292e-02\n",
      "   -4.70479705e-02  -3.59778598e-01   3.12730627e-01  -1.66051661e-01\n",
      "    7.93357934e-02]\n",
      " [ -6.02706027e-02   2.05412054e-01   9.96309963e-02  -1.89421894e-01\n",
      "   -5.16605166e-02   4.30504305e-02  -9.71709717e-02   6.51906519e-02\n",
      "    9.71445147e-17  -6.51906519e-02   3.19803198e-02   8.73308733e-02\n",
      "    8.61008610e-03   2.42312423e-01   9.96309963e-02   2.65682657e-01\n",
      "   -6.02706027e-02]\n",
      " [  2.25092251e-01   1.64821648e-01   1.90651907e-02   6.45756458e-02\n",
      "    1.69126691e-01  -1.13161132e-01  -3.50553506e-02  -9.04059041e-02\n",
      "   -4.85722573e-17   9.04059041e-02   1.25461255e-01  -6.76506765e-02\n",
      "   -5.59655597e-02  -7.50307503e-02   1.90651907e-02  -6.02706027e-02\n",
      "    2.25092251e-01]]\n"
     ]
    }
   ],
   "source": [
    "pinv = np.linalg.pinv(exp)\n",
    "pinv_transpose = pinv.transpose()\n",
    "print(pinv_transpose)"
   ]
  },
  {
   "cell_type": "code",
   "execution_count": 10,
   "metadata": {
    "collapsed": false
   },
   "outputs": [
    {
     "data": {
      "image/png": "[encoded data removed]",
      "text/plain": [
       "<matplotlib.figure.Figure at 0x10823b6a0>"
      ]
     },
     "metadata": {},
     "output_type": "display_data"
    }
   ],
   "source": [
    "fig, ax = plt.subplots()\n",
    "mat = ax.matshow(pinv_transpose)\n",
    "plt.imshow(pinv_transpose, cmap='Greys',  interpolation='nearest')\n",
    "plt.show()"
   ]
  },
  {
   "cell_type": "code",
   "execution_count": 11,
   "metadata": {
    "collapsed": false
   },
   "outputs": [
    {
     "name": "stdout",
     "output_type": "stream",
     "text": [
      "1 1.0\n",
      "2 1.0\n",
      "3 1.0\n",
      "4 1.0\n",
      "5 1.0\n",
      "6 1.0\n",
      "7 1.0\n",
      "8 1.0\n",
      "9 1.0\n"
     ]
    }
   ],
   "source": [
    "for index in range(exp.shape[0]):\n",
    "    prediction = pinv_transpose * np.matrix(exp[index, :]).T\n",
    "    print(index + 1, round(prediction.item( (index, 0)), 2))"
   ]
  },
  {
   "cell_type": "code",
   "execution_count": 12,
   "metadata": {
    "collapsed": false
   },
   "outputs": [
    {
     "name": "stdout",
     "output_type": "stream",
     "text": [
      "rule_30   [[ 1.  2.  2.  2.  4.  3.  5.  4.  6.  4.  4.  4.  3.  2.  2.  1.  1.]]\n"
     ]
    }
   ],
   "source": [
    "def make_rule_30_category(exp):\n",
    "    rule_30 = np.matrix(np.zeros(exp.shape[1]))\n",
    "    for index in range(exp.shape[0]):\n",
    "        if exp[index].any():\n",
    "            rule_30 += exp[index, :]\n",
    "    return rule_30\n",
    "rule_30 = make_rule_30_category(exp)\n",
    "print(\"rule_30  \", rule_30)"
   ]
  },
  {
   "cell_type": "code",
   "execution_count": 13,
   "metadata": {
    "collapsed": false
   },
   "outputs": [
    {
     "data": {
      "text/plain": [
       "array([[ 1.],\n",
       "       [ 1.],\n",
       "       [ 1.],\n",
       "       [ 1.],\n",
       "       [ 1.],\n",
       "       [ 1.],\n",
       "       [ 1.],\n",
       "       [ 1.],\n",
       "       [ 1.]])"
      ]
     },
     "execution_count": 13,
     "metadata": {},
     "output_type": "execute_result"
    }
   ],
   "source": [
    "prediction_rule_30 = pinv_transpose * rule_30.T\n",
    "prediction_rule_30.round(2)"
   ]
  }
 ],
 "metadata": {
  "kernelspec": {
   "display_name": "Python 3",
   "language": "python",
   "name": "python3"
  },
  "language_info": {
   "codemirror_mode": {
    "name": "ipython",
    "version": 3
   },
   "file_extension": ".py",
   "mimetype": "text/x-python",
   "name": "python",
   "nbconvert_exporter": "python",
   "pygments_lexer": "ipython3",
   "version": "3.5.1"
  }
 },
 "nbformat": 4,
 "nbformat_minor": 0
}
