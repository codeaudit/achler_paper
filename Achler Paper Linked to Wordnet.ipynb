{
 "cells": [
  {
   "cell_type": "markdown",
   "metadata": {},
   "source": [
    "# Symbolic neural networks for cognitive capacities\n",
    "[Paper](http://reason.cs.uiuc.edu/tsvi/BICA_93_Main.pdf)"
   ]
  },
  {
   "cell_type": "code",
   "execution_count": 1,
   "metadata": {
    "collapsed": true
   },
   "outputs": [],
   "source": [
    "%run achler_functions.py"
   ]
  },
  {
   "cell_type": "code",
   "execution_count": 2,
   "metadata": {
    "collapsed": false
   },
   "outputs": [
    {
     "data": {
      "text/plain": [
       "Synset('dog.n.01')"
      ]
     },
     "execution_count": 2,
     "metadata": {},
     "output_type": "execute_result"
    }
   ],
   "source": [
    "from nltk.corpus import wordnet as wn\n",
    "dog = wn.synsets('dog')[0]\n",
    "dog"
   ]
  },
  {
   "cell_type": "code",
   "execution_count": 3,
   "metadata": {
    "collapsed": false
   },
   "outputs": [
    {
     "data": {
      "text/plain": [
       "[Synset('canine.n.02'), Synset('domestic_animal.n.01')]"
      ]
     },
     "execution_count": 3,
     "metadata": {},
     "output_type": "execute_result"
    }
   ],
   "source": [
    "dog.hypernyms()"
   ]
  },
  {
   "cell_type": "code",
   "execution_count": 4,
   "metadata": {
    "collapsed": false
   },
   "outputs": [
    {
     "name": "stdout",
     "output_type": "stream",
     "text": [
      "dog\n"
     ]
    },
    {
     "data": {
      "text/plain": [
       "['canine', 'domestic_animal']"
      ]
     },
     "execution_count": 4,
     "metadata": {},
     "output_type": "execute_result"
    }
   ],
   "source": [
    "print(dog.name().split(\".\")[0])\n",
    "dog_hypernyms = [hypernym.name().split(\".\")[0] for hypernym in dog.hypernyms()]\n",
    "dog_hypernyms"
   ]
  },
  {
   "cell_type": "code",
   "execution_count": 5,
   "metadata": {
    "collapsed": false
   },
   "outputs": [
    {
     "data": {
      "text/plain": [
       "['basenji',\n",
       " 'corgi',\n",
       " 'cur',\n",
       " 'dalmatian',\n",
       " 'great_pyrenees',\n",
       " 'griffon',\n",
       " 'hunting_dog',\n",
       " 'lapdog',\n",
       " 'leonberg',\n",
       " 'mexican_hairless',\n",
       " 'newfoundland',\n",
       " 'pooch',\n",
       " 'poodle',\n",
       " 'pug',\n",
       " 'puppy',\n",
       " 'spitz',\n",
       " 'toy_dog',\n",
       " 'working_dog']"
      ]
     },
     "execution_count": 5,
     "metadata": {},
     "output_type": "execute_result"
    }
   ],
   "source": [
    "dogs = [hyponym.name().split(\".\")[0] for hyponym in dog.hyponyms()]\n",
    "dogs"
   ]
  },
  {
   "cell_type": "code",
   "execution_count": 6,
   "metadata": {
    "collapsed": false
   },
   "outputs": [
    {
     "data": {
      "text/plain": [
       "['domestic_cat', 'wildcat']"
      ]
     },
     "execution_count": 6,
     "metadata": {},
     "output_type": "execute_result"
    }
   ],
   "source": [
    "cat = wn.synsets('cat')[0]\n",
    "cats = [hyponym.name().split(\".\")[0] for hyponym in cat.hyponyms()]\n",
    "cats"
   ]
  },
  {
   "cell_type": "code",
   "execution_count": 7,
   "metadata": {
    "collapsed": false
   },
   "outputs": [
    {
     "data": {
      "text/plain": [
       "['feline', 'domestic_animal']"
      ]
     },
     "execution_count": 7,
     "metadata": {},
     "output_type": "execute_result"
    }
   ],
   "source": [
    "cat_hypernyms = [hypernym.name().split(\".\")[0] for hypernym in cat.hypernyms()]\n",
    "cat_hypernyms.append('domestic_animal')\n",
    "cat_hypernyms"
   ]
  },
  {
   "cell_type": "code",
   "execution_count": 8,
   "metadata": {
    "collapsed": false
   },
   "outputs": [
    {
     "data": {
      "text/plain": [
       "{'abyssinian',\n",
       " 'alley_cat',\n",
       " 'angora',\n",
       " 'burmese_cat',\n",
       " 'egyptian_cat',\n",
       " 'kitty',\n",
       " 'maltese',\n",
       " 'manx',\n",
       " 'mouser',\n",
       " 'persian_cat',\n",
       " 'siamese_cat',\n",
       " 'tabby',\n",
       " 'tiger_cat',\n",
       " 'tom',\n",
       " 'tortoiseshell'}"
      ]
     },
     "execution_count": 8,
     "metadata": {},
     "output_type": "execute_result"
    }
   ],
   "source": [
    "cat = wn.synsets('domestic_cat')[0]\n",
    "cats = set([hyponym.name().split(\".\")[0] for hyponym in cat.hyponyms()])\n",
    "cats"
   ]
  },
  {
   "cell_type": "markdown",
   "metadata": {},
   "source": [
    "# Learn dogs and cats dataset instances"
   ]
  },
  {
   "cell_type": "code",
   "execution_count": 9,
   "metadata": {
    "collapsed": false
   },
   "outputs": [],
   "source": [
    "from sklearn import datasets\n",
    "import numpy as np"
   ]
  },
  {
   "cell_type": "code",
   "execution_count": 10,
   "metadata": {
    "collapsed": false
   },
   "outputs": [
    {
     "name": "stdout",
     "output_type": "stream",
     "text": [
      "(33, 37)\n",
      "[[ 1.  1.  1.  0.  0.  0.  0.  0.  0.  0.  0.  0.  0.  0.  0.  0.  0.  0.\n",
      "   0.  0.  0.  0.  0.  0.  0.  0.  0.  0.  0.  0.  0.  0.  0.  0.  0.  0.\n",
      "   0.]\n",
      " [ 0.  1.  1.  1.  0.  0.  0.  0.  0.  0.  0.  0.  0.  0.  0.  0.  0.  0.\n",
      "   0.  0.  0.  0.  0.  0.  0.  0.  0.  0.  0.  0.  0.  0.  0.  0.  0.  0.\n",
      "   0.]]\n",
      "...\n",
      "[[ 0.  1.  0.  0.  0.  0.  0.  0.  0.  0.  0.  0.  0.  0.  0.  0.  0.  0.\n",
      "   0.  0.  0.  1.  0.  0.  0.  0.  0.  0.  0.  0.  0.  0.  0.  0.  1.  0.\n",
      "   0.]\n",
      " [ 0.  1.  0.  0.  0.  0.  0.  0.  0.  0.  0.  0.  0.  0.  0.  0.  0.  0.\n",
      "   0.  0.  0.  1.  0.  0.  0.  0.  0.  0.  0.  0.  0.  0.  0.  0.  0.  1.\n",
      "   0.]]\n",
      "['basenji', 'domestic_animal', 'canine', 'corgi', 'cur', 'dalmatian', 'great_pyrenees', 'griffon', 'hunting_dog', 'lapdog', 'leonberg', 'mexican_hairless', 'newfoundland', 'pooch', 'poodle', 'pug', 'puppy', 'spitz', 'toy_dog', 'working_dog', 'manx', 'feline', 'mouser', 'kitty', 'burmese_cat', 'angora', 'tabby', 'alley_cat', 'siamese_cat', 'tom', 'tortoiseshell', 'maltese', 'persian_cat', 'egyptian_cat', 'abyssinian', 'tiger_cat']\n"
     ]
    }
   ],
   "source": [
    "exp = np.zeros( (len(dogs) + len(cats), len(dogs) + len(dog_hypernyms) + len(cats) + len(cat_hypernyms)) )\n",
    "exp_labels = []\n",
    "\n",
    "# dogs\n",
    "for item in dogs:\n",
    "    instance = {}\n",
    "    instance = {item: 1}\n",
    "    for hypernym in dog_hypernyms:\n",
    "        instance[hypernym] = 1\n",
    "    exp, exp_labels = learn_instance([instance,], exp, exp_labels)\n",
    "\n",
    "# cats\n",
    "for item in cats:\n",
    "    instance = {}\n",
    "    instance = {item: 1}\n",
    "    for hypernym in cat_hypernyms:\n",
    "        instance[hypernym] = 1\n",
    "    exp, exp_labels = learn_instance([instance,], exp, exp_labels)\n",
    "    \n",
    "print(exp.shape)\n",
    "print(exp[:2])\n",
    "print(\"...\")\n",
    "print(exp[-2:])\n",
    "print(exp_labels)"
   ]
  },
  {
   "cell_type": "markdown",
   "metadata": {},
   "source": [
    "## Make categories of the common types"
   ]
  },
  {
   "cell_type": "code",
   "execution_count": 11,
   "metadata": {
    "collapsed": false
   },
   "outputs": [
    {
     "data": {
      "text/plain": [
       "['domestic_animal', 'canine', 'feline']"
      ]
     },
     "execution_count": 11,
     "metadata": {},
     "output_type": "execute_result"
    }
   ],
   "source": [
    "category_list = [exp_labels[i] for i in np.where(exp.sum(axis=0) > 1)[0]] # more than one row\n",
    "category_list"
   ]
  },
  {
   "cell_type": "code",
   "execution_count": 12,
   "metadata": {
    "collapsed": false
   },
   "outputs": [
    {
     "data": {
      "text/plain": [
       "{'canine': matrix([[  1.,  18.,  18.,   1.,   1.,   1.,   1.,   1.,   1.,   1.,   1.,\n",
       "            1.,   1.,   1.,   1.,   1.,   1.,   1.,   1.,   1.,   0.,   0.,\n",
       "            0.,   0.,   0.,   0.,   0.,   0.,   0.,   0.,   0.,   0.,   0.,\n",
       "            0.,   0.,   0.,   0.]]),\n",
       " 'domestic_animal': matrix([[  1.,  33.,  18.,   1.,   1.,   1.,   1.,   1.,   1.,   1.,   1.,\n",
       "            1.,   1.,   1.,   1.,   1.,   1.,   1.,   1.,   1.,   1.,  15.,\n",
       "            1.,   1.,   1.,   1.,   1.,   1.,   1.,   1.,   1.,   1.,   1.,\n",
       "            1.,   1.,   1.,   0.]]),\n",
       " 'feline': matrix([[  0.,  15.,   0.,   0.,   0.,   0.,   0.,   0.,   0.,   0.,   0.,\n",
       "            0.,   0.,   0.,   0.,   0.,   0.,   0.,   0.,   0.,   1.,  15.,\n",
       "            1.,   1.,   1.,   1.,   1.,   1.,   1.,   1.,   1.,   1.,   1.,\n",
       "            1.,   1.,   1.,   0.]])}"
      ]
     },
     "execution_count": 12,
     "metadata": {},
     "output_type": "execute_result"
    }
   ],
   "source": [
    "def make_categories(category_list, exp, exp_labels):\n",
    "    categories = {}\n",
    "    for category in category_list:\n",
    "        if category in exp_labels:\n",
    "            category_index = exp_labels.index(category)\n",
    "            categories[category] = np.matrix(np.zeros(exp.shape[1]))\n",
    "            for index in range(exp.shape[0]):\n",
    "                if exp.item( (index, category_index) ) != 0:\n",
    "                    categories[category] += exp[index, :]\n",
    "    return categories\n",
    "categories = make_categories(category_list, exp, exp_labels)\n",
    "categories"
   ]
  },
  {
   "cell_type": "markdown",
   "metadata": {},
   "source": [
    "Do the categories work?"
   ]
  },
  {
   "cell_type": "code",
   "execution_count": 13,
   "metadata": {
    "collapsed": false
   },
   "outputs": [
    {
     "data": {
      "text/plain": [
       "array([[ 1.,  1.,  1.,  1.,  1.,  1.,  1.,  1.,  1.,  1.,  1.,  1.,  1.,\n",
       "         1.,  1.,  1.,  1.,  1.,  0.,  0.,  0.,  0.,  0.,  0.,  0.,  0.,\n",
       "         0.,  0.,  0.,  0.,  0.,  0.,  0.]])"
      ]
     },
     "execution_count": 13,
     "metadata": {},
     "output_type": "execute_result"
    }
   ],
   "source": [
    "pinv = np.linalg.pinv(exp)\n",
    "pinv_transpose = pinv.transpose()\n",
    "prediction_canine = pinv_transpose * categories[\"canine\"].T\n",
    "prediction_canine.round(2).T"
   ]
  },
  {
   "cell_type": "code",
   "execution_count": 14,
   "metadata": {
    "collapsed": false
   },
   "outputs": [
    {
     "data": {
      "text/plain": [
       "array([[ 0.,  0., -0.,  0.,  0., -0., -0., -0.,  0.,  0.,  0.,  0.,  0.,\n",
       "         0.,  0.,  0.,  0.,  0.,  1.,  1.,  1.,  1.,  1.,  1.,  1.,  1.,\n",
       "         1.,  1.,  1.,  1.,  1.,  1.,  1.]])"
      ]
     },
     "execution_count": 14,
     "metadata": {},
     "output_type": "execute_result"
    }
   ],
   "source": [
    "prediction_feline = pinv_transpose * categories[\"feline\"].T\n",
    "prediction_feline.round(2).T"
   ]
  },
  {
   "cell_type": "code",
   "execution_count": 15,
   "metadata": {
    "collapsed": false
   },
   "outputs": [
    {
     "data": {
      "text/plain": [
       "array([[ 1.,  1.,  1.,  1.,  1.,  1.,  1.,  1.,  1.,  1.,  1.,  1.,  1.,\n",
       "         1.,  1.,  1.,  1.,  1.,  1.,  1.,  1.,  1.,  1.,  1.,  1.,  1.,\n",
       "         1.,  1.,  1.,  1.,  1.,  1.,  1.]])"
      ]
     },
     "execution_count": 15,
     "metadata": {},
     "output_type": "execute_result"
    }
   ],
   "source": [
    "prediction_domestic_animal = pinv_transpose * categories[\"domestic_animal\"].T\n",
    "prediction_domestic_animal.round(2).T"
   ]
  },
  {
   "cell_type": "markdown",
   "metadata": {},
   "source": [
    "Which is the biggest category? Can we tell the others are subcategories?"
   ]
  },
  {
   "cell_type": "code",
   "execution_count": 16,
   "metadata": {
    "collapsed": false
   },
   "outputs": [
    {
     "name": "stdout",
     "output_type": "stream",
     "text": [
      "feline 45.0\n",
      "domestic_animal 99.0\n",
      "canine 54.0\n"
     ]
    }
   ],
   "source": [
    "for category in categories:\n",
    "    print(category, np.sum(categories[category]))"
   ]
  },
  {
   "cell_type": "code",
   "execution_count": 17,
   "metadata": {
    "collapsed": false
   },
   "outputs": [
    {
     "data": {
      "text/plain": [
       "True"
      ]
     },
     "execution_count": 17,
     "metadata": {},
     "output_type": "execute_result"
    }
   ],
   "source": [
    "np.all(categories['domestic_animal'] == categories['canine'] + categories['feline'])"
   ]
  }
 ],
 "metadata": {
  "kernelspec": {
   "display_name": "Python 3",
   "language": "python",
   "name": "python3"
  },
  "language_info": {
   "codemirror_mode": {
    "name": "ipython",
    "version": 3
   },
   "file_extension": ".py",
   "mimetype": "text/x-python",
   "name": "python",
   "nbconvert_exporter": "python",
   "pygments_lexer": "ipython3",
   "version": "3.5.1"
  }
 },
 "nbformat": 4,
 "nbformat_minor": 0
}
